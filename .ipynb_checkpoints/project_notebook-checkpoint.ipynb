{
 "cells": [
  {
   "cell_type": "markdown",
   "metadata": {},
   "source": [
    "# Projet Modeles de Regression 2021\n",
    "\n",
    "étudiants : \n",
    "\n",
    "- Arthur FREICHE\n",
    "- Louis POITEVIN"
   ]
  },
  {
   "cell_type": "markdown",
   "metadata": {},
   "source": [
    "## Données"
   ]
  },
  {
   "cell_type": "code",
   "execution_count": 1,
   "metadata": {},
   "outputs": [],
   "source": [
    "from scipy.io import loadmat\n",
    "\n",
    "import pandas as pd\n",
    "import numpy as np\n",
    "\n",
    "import matplotlib.pyplot as plt \n",
    "from matplotlib.ticker import PercentFormatter\n",
    "import seaborn as sns\n",
    "from statsmodels.graphics.gofplots import qqline\n",
    "\n",
    "from sklearn.preprocessing import StandardScaler\n",
    "from sklearn.decomposition import PCA\n",
    "from sklearn.ensemble import RandomForestRegressor\n",
    "from sklearn.metrics import mean_absolute_error, mean_squared_error, r2_score\n",
    "from sklearn import linear_model\n",
    "from sklearn.model_selection import train_test_split\n",
    "from sklearn.neighbors import KNeighborsRegressor\n",
    "from sklearn.ensemble import IsolationForest"
   ]
  },
  {
   "cell_type": "code",
   "execution_count": 2,
   "metadata": {},
   "outputs": [],
   "source": [
    "mat = loadmat('Database.mat')"
   ]
  },
  {
   "cell_type": "code",
   "execution_count": 3,
   "metadata": {},
   "outputs": [],
   "source": [
    "col_names = mat['nomcol']\n",
    "data_values = mat['Datan']"
   ]
  },
  {
   "cell_type": "code",
   "execution_count": 4,
   "metadata": {},
   "outputs": [],
   "source": [
    "n = len(col_names[0])"
   ]
  },
  {
   "cell_type": "code",
   "execution_count": 5,
   "metadata": {},
   "outputs": [
    {
     "data": {
      "text/plain": [
       "['FEED_D154',\n",
       " 'FEED_DS_005',\n",
       " 'FEED_DS_010',\n",
       " 'FEED_DS_030',\n",
       " 'FEED_DS_050',\n",
       " 'FEED_DS_070',\n",
       " 'FEED_DS_090',\n",
       " 'FEED_DS_095',\n",
       " 'DIESEL_DS_005',\n",
       " 'DIESEL_DS_010',\n",
       " 'DIESEL_DS_030',\n",
       " 'DIESEL_DS_050',\n",
       " 'DIESEL_DS_070',\n",
       " 'DIESEL_DS_090',\n",
       " 'DIESEL_DS_095',\n",
       " 'FEED_SULFUR',\n",
       " 'FEED_NITROGEN',\n",
       " 'FEED_MeABP',\n",
       " 'FEED_KWATSON',\n",
       " 'PROCESS_T_WABT',\n",
       " 'X370PLUS',\n",
       " 'PROCESS_PP_H2_OUT',\n",
       " 'FEED_TMP',\n",
       " 'actual.values',\n",
       " 'PLANT_NAME']"
      ]
     },
     "execution_count": 5,
     "metadata": {},
     "output_type": "execute_result"
    }
   ],
   "source": [
    "res = []\n",
    "for i in range(0, n):\n",
    "    res.append(col_names[0,i][0])\n",
    "    \n",
    "res"
   ]
  },
  {
   "cell_type": "code",
   "execution_count": 6,
   "metadata": {},
   "outputs": [],
   "source": [
    "col_names = res"
   ]
  },
  {
   "cell_type": "code",
   "execution_count": 7,
   "metadata": {},
   "outputs": [],
   "source": [
    "data = pd.DataFrame(data_values, columns=col_names)"
   ]
  },
  {
   "cell_type": "code",
   "execution_count": 8,
   "metadata": {},
   "outputs": [
    {
     "data": {
      "text/html": [
       "<div>\n",
       "<style scoped>\n",
       "    .dataframe tbody tr th:only-of-type {\n",
       "        vertical-align: middle;\n",
       "    }\n",
       "\n",
       "    .dataframe tbody tr th {\n",
       "        vertical-align: top;\n",
       "    }\n",
       "\n",
       "    .dataframe thead th {\n",
       "        text-align: right;\n",
       "    }\n",
       "</style>\n",
       "<table border=\"1\" class=\"dataframe\">\n",
       "  <thead>\n",
       "    <tr style=\"text-align: right;\">\n",
       "      <th></th>\n",
       "      <th>FEED_D154</th>\n",
       "      <th>FEED_DS_005</th>\n",
       "      <th>FEED_DS_010</th>\n",
       "      <th>FEED_DS_030</th>\n",
       "      <th>FEED_DS_050</th>\n",
       "      <th>FEED_DS_070</th>\n",
       "      <th>FEED_DS_090</th>\n",
       "      <th>FEED_DS_095</th>\n",
       "      <th>DIESEL_DS_005</th>\n",
       "      <th>DIESEL_DS_010</th>\n",
       "      <th>...</th>\n",
       "      <th>FEED_SULFUR</th>\n",
       "      <th>FEED_NITROGEN</th>\n",
       "      <th>FEED_MeABP</th>\n",
       "      <th>FEED_KWATSON</th>\n",
       "      <th>PROCESS_T_WABT</th>\n",
       "      <th>X370PLUS</th>\n",
       "      <th>PROCESS_PP_H2_OUT</th>\n",
       "      <th>FEED_TMP</th>\n",
       "      <th>actual.values</th>\n",
       "      <th>PLANT_NAME</th>\n",
       "    </tr>\n",
       "  </thead>\n",
       "  <tbody>\n",
       "    <tr>\n",
       "      <th>0</th>\n",
       "      <td>0.732158</td>\n",
       "      <td>NaN</td>\n",
       "      <td>NaN</td>\n",
       "      <td>NaN</td>\n",
       "      <td>NaN</td>\n",
       "      <td>NaN</td>\n",
       "      <td>NaN</td>\n",
       "      <td>NaN</td>\n",
       "      <td>NaN</td>\n",
       "      <td>NaN</td>\n",
       "      <td>...</td>\n",
       "      <td>0.637412</td>\n",
       "      <td>0.097841</td>\n",
       "      <td>NaN</td>\n",
       "      <td>NaN</td>\n",
       "      <td>0.503792</td>\n",
       "      <td>NaN</td>\n",
       "      <td>0.483352</td>\n",
       "      <td>NaN</td>\n",
       "      <td>0.733574</td>\n",
       "      <td>27.0</td>\n",
       "    </tr>\n",
       "    <tr>\n",
       "      <th>1</th>\n",
       "      <td>0.730097</td>\n",
       "      <td>NaN</td>\n",
       "      <td>NaN</td>\n",
       "      <td>NaN</td>\n",
       "      <td>NaN</td>\n",
       "      <td>NaN</td>\n",
       "      <td>NaN</td>\n",
       "      <td>NaN</td>\n",
       "      <td>NaN</td>\n",
       "      <td>NaN</td>\n",
       "      <td>...</td>\n",
       "      <td>0.668714</td>\n",
       "      <td>0.102562</td>\n",
       "      <td>NaN</td>\n",
       "      <td>NaN</td>\n",
       "      <td>0.514416</td>\n",
       "      <td>NaN</td>\n",
       "      <td>0.462734</td>\n",
       "      <td>NaN</td>\n",
       "      <td>0.729958</td>\n",
       "      <td>27.0</td>\n",
       "    </tr>\n",
       "    <tr>\n",
       "      <th>2</th>\n",
       "      <td>0.747273</td>\n",
       "      <td>NaN</td>\n",
       "      <td>NaN</td>\n",
       "      <td>NaN</td>\n",
       "      <td>NaN</td>\n",
       "      <td>NaN</td>\n",
       "      <td>NaN</td>\n",
       "      <td>NaN</td>\n",
       "      <td>NaN</td>\n",
       "      <td>NaN</td>\n",
       "      <td>...</td>\n",
       "      <td>0.666106</td>\n",
       "      <td>0.086539</td>\n",
       "      <td>NaN</td>\n",
       "      <td>NaN</td>\n",
       "      <td>0.532122</td>\n",
       "      <td>NaN</td>\n",
       "      <td>0.454243</td>\n",
       "      <td>NaN</td>\n",
       "      <td>0.798674</td>\n",
       "      <td>27.0</td>\n",
       "    </tr>\n",
       "  </tbody>\n",
       "</table>\n",
       "<p>3 rows × 25 columns</p>\n",
       "</div>"
      ],
      "text/plain": [
       "   FEED_D154  FEED_DS_005  FEED_DS_010  FEED_DS_030  FEED_DS_050  FEED_DS_070  \\\n",
       "0   0.732158          NaN          NaN          NaN          NaN          NaN   \n",
       "1   0.730097          NaN          NaN          NaN          NaN          NaN   \n",
       "2   0.747273          NaN          NaN          NaN          NaN          NaN   \n",
       "\n",
       "   FEED_DS_090  FEED_DS_095  DIESEL_DS_005  DIESEL_DS_010  ...  FEED_SULFUR  \\\n",
       "0          NaN          NaN            NaN            NaN  ...     0.637412   \n",
       "1          NaN          NaN            NaN            NaN  ...     0.668714   \n",
       "2          NaN          NaN            NaN            NaN  ...     0.666106   \n",
       "\n",
       "   FEED_NITROGEN  FEED_MeABP  FEED_KWATSON  PROCESS_T_WABT  X370PLUS  \\\n",
       "0       0.097841         NaN           NaN        0.503792       NaN   \n",
       "1       0.102562         NaN           NaN        0.514416       NaN   \n",
       "2       0.086539         NaN           NaN        0.532122       NaN   \n",
       "\n",
       "   PROCESS_PP_H2_OUT  FEED_TMP  actual.values  PLANT_NAME  \n",
       "0           0.483352       NaN       0.733574        27.0  \n",
       "1           0.462734       NaN       0.729958        27.0  \n",
       "2           0.454243       NaN       0.798674        27.0  \n",
       "\n",
       "[3 rows x 25 columns]"
      ]
     },
     "execution_count": 8,
     "metadata": {},
     "output_type": "execute_result"
    }
   ],
   "source": [
    "data.head(3)"
   ]
  },
  {
   "cell_type": "code",
   "execution_count": 9,
   "metadata": {},
   "outputs": [],
   "source": [
    "date = pd.read_csv(\"Date.txt\",delimiter=\"\\t\")"
   ]
  },
  {
   "cell_type": "code",
   "execution_count": 10,
   "metadata": {},
   "outputs": [
    {
     "data": {
      "text/plain": [
       "(8000, 1)"
      ]
     },
     "execution_count": 10,
     "metadata": {},
     "output_type": "execute_result"
    }
   ],
   "source": [
    "date.shape"
   ]
  },
  {
   "cell_type": "code",
   "execution_count": 11,
   "metadata": {},
   "outputs": [],
   "source": [
    "cycle = pd.read_csv(\"CycleNumber.txt\",delimiter=\"\\t\")"
   ]
  },
  {
   "cell_type": "code",
   "execution_count": 12,
   "metadata": {},
   "outputs": [
    {
     "data": {
      "text/plain": [
       "(8000, 1)"
      ]
     },
     "execution_count": 12,
     "metadata": {},
     "output_type": "execute_result"
    }
   ],
   "source": [
    "cycle.shape"
   ]
  },
  {
   "cell_type": "code",
   "execution_count": 13,
   "metadata": {},
   "outputs": [
    {
     "data": {
      "text/plain": [
       "(8000, 25)"
      ]
     },
     "execution_count": 13,
     "metadata": {},
     "output_type": "execute_result"
    }
   ],
   "source": [
    "data.shape"
   ]
  },
  {
   "cell_type": "code",
   "execution_count": 14,
   "metadata": {},
   "outputs": [],
   "source": [
    "df = pd.concat([data,date,cycle],axis=1)"
   ]
  },
  {
   "cell_type": "code",
   "execution_count": 15,
   "metadata": {},
   "outputs": [
    {
     "data": {
      "text/html": [
       "<div>\n",
       "<style scoped>\n",
       "    .dataframe tbody tr th:only-of-type {\n",
       "        vertical-align: middle;\n",
       "    }\n",
       "\n",
       "    .dataframe tbody tr th {\n",
       "        vertical-align: top;\n",
       "    }\n",
       "\n",
       "    .dataframe thead th {\n",
       "        text-align: right;\n",
       "    }\n",
       "</style>\n",
       "<table border=\"1\" class=\"dataframe\">\n",
       "  <thead>\n",
       "    <tr style=\"text-align: right;\">\n",
       "      <th></th>\n",
       "      <th>FEED_D154</th>\n",
       "      <th>FEED_DS_005</th>\n",
       "      <th>FEED_DS_010</th>\n",
       "      <th>FEED_DS_030</th>\n",
       "      <th>FEED_DS_050</th>\n",
       "      <th>FEED_DS_070</th>\n",
       "      <th>FEED_DS_090</th>\n",
       "      <th>FEED_DS_095</th>\n",
       "      <th>DIESEL_DS_005</th>\n",
       "      <th>DIESEL_DS_010</th>\n",
       "      <th>...</th>\n",
       "      <th>FEED_MeABP</th>\n",
       "      <th>FEED_KWATSON</th>\n",
       "      <th>PROCESS_T_WABT</th>\n",
       "      <th>X370PLUS</th>\n",
       "      <th>PROCESS_PP_H2_OUT</th>\n",
       "      <th>FEED_TMP</th>\n",
       "      <th>actual.values</th>\n",
       "      <th>PLANT_NAME</th>\n",
       "      <th>DATE</th>\n",
       "      <th>CYCLE_NUMBER</th>\n",
       "    </tr>\n",
       "  </thead>\n",
       "  <tbody>\n",
       "    <tr>\n",
       "      <th>0</th>\n",
       "      <td>0.732158</td>\n",
       "      <td>NaN</td>\n",
       "      <td>NaN</td>\n",
       "      <td>NaN</td>\n",
       "      <td>NaN</td>\n",
       "      <td>NaN</td>\n",
       "      <td>NaN</td>\n",
       "      <td>NaN</td>\n",
       "      <td>NaN</td>\n",
       "      <td>NaN</td>\n",
       "      <td>...</td>\n",
       "      <td>NaN</td>\n",
       "      <td>NaN</td>\n",
       "      <td>0.503792</td>\n",
       "      <td>NaN</td>\n",
       "      <td>0.483352</td>\n",
       "      <td>NaN</td>\n",
       "      <td>0.733574</td>\n",
       "      <td>27.0</td>\n",
       "      <td>24/07/2007</td>\n",
       "      <td>4</td>\n",
       "    </tr>\n",
       "    <tr>\n",
       "      <th>1</th>\n",
       "      <td>0.730097</td>\n",
       "      <td>NaN</td>\n",
       "      <td>NaN</td>\n",
       "      <td>NaN</td>\n",
       "      <td>NaN</td>\n",
       "      <td>NaN</td>\n",
       "      <td>NaN</td>\n",
       "      <td>NaN</td>\n",
       "      <td>NaN</td>\n",
       "      <td>NaN</td>\n",
       "      <td>...</td>\n",
       "      <td>NaN</td>\n",
       "      <td>NaN</td>\n",
       "      <td>0.514416</td>\n",
       "      <td>NaN</td>\n",
       "      <td>0.462734</td>\n",
       "      <td>NaN</td>\n",
       "      <td>0.729958</td>\n",
       "      <td>27.0</td>\n",
       "      <td>07/08/2007</td>\n",
       "      <td>4</td>\n",
       "    </tr>\n",
       "    <tr>\n",
       "      <th>2</th>\n",
       "      <td>0.747273</td>\n",
       "      <td>NaN</td>\n",
       "      <td>NaN</td>\n",
       "      <td>NaN</td>\n",
       "      <td>NaN</td>\n",
       "      <td>NaN</td>\n",
       "      <td>NaN</td>\n",
       "      <td>NaN</td>\n",
       "      <td>NaN</td>\n",
       "      <td>NaN</td>\n",
       "      <td>...</td>\n",
       "      <td>NaN</td>\n",
       "      <td>NaN</td>\n",
       "      <td>0.532122</td>\n",
       "      <td>NaN</td>\n",
       "      <td>0.454243</td>\n",
       "      <td>NaN</td>\n",
       "      <td>0.798674</td>\n",
       "      <td>27.0</td>\n",
       "      <td>21/08/2007</td>\n",
       "      <td>4</td>\n",
       "    </tr>\n",
       "    <tr>\n",
       "      <th>3</th>\n",
       "      <td>0.734906</td>\n",
       "      <td>NaN</td>\n",
       "      <td>NaN</td>\n",
       "      <td>NaN</td>\n",
       "      <td>NaN</td>\n",
       "      <td>NaN</td>\n",
       "      <td>NaN</td>\n",
       "      <td>NaN</td>\n",
       "      <td>NaN</td>\n",
       "      <td>NaN</td>\n",
       "      <td>...</td>\n",
       "      <td>NaN</td>\n",
       "      <td>NaN</td>\n",
       "      <td>0.549828</td>\n",
       "      <td>NaN</td>\n",
       "      <td>0.455298</td>\n",
       "      <td>NaN</td>\n",
       "      <td>0.779385</td>\n",
       "      <td>27.0</td>\n",
       "      <td>04/09/2007</td>\n",
       "      <td>4</td>\n",
       "    </tr>\n",
       "    <tr>\n",
       "      <th>4</th>\n",
       "      <td>0.749678</td>\n",
       "      <td>NaN</td>\n",
       "      <td>NaN</td>\n",
       "      <td>NaN</td>\n",
       "      <td>NaN</td>\n",
       "      <td>NaN</td>\n",
       "      <td>NaN</td>\n",
       "      <td>NaN</td>\n",
       "      <td>NaN</td>\n",
       "      <td>NaN</td>\n",
       "      <td>...</td>\n",
       "      <td>NaN</td>\n",
       "      <td>NaN</td>\n",
       "      <td>0.518665</td>\n",
       "      <td>NaN</td>\n",
       "      <td>0.460993</td>\n",
       "      <td>NaN</td>\n",
       "      <td>0.677517</td>\n",
       "      <td>27.0</td>\n",
       "      <td>02/10/2007</td>\n",
       "      <td>4</td>\n",
       "    </tr>\n",
       "  </tbody>\n",
       "</table>\n",
       "<p>5 rows × 27 columns</p>\n",
       "</div>"
      ],
      "text/plain": [
       "   FEED_D154  FEED_DS_005  FEED_DS_010  FEED_DS_030  FEED_DS_050  FEED_DS_070  \\\n",
       "0   0.732158          NaN          NaN          NaN          NaN          NaN   \n",
       "1   0.730097          NaN          NaN          NaN          NaN          NaN   \n",
       "2   0.747273          NaN          NaN          NaN          NaN          NaN   \n",
       "3   0.734906          NaN          NaN          NaN          NaN          NaN   \n",
       "4   0.749678          NaN          NaN          NaN          NaN          NaN   \n",
       "\n",
       "   FEED_DS_090  FEED_DS_095  DIESEL_DS_005  DIESEL_DS_010  ...  FEED_MeABP  \\\n",
       "0          NaN          NaN            NaN            NaN  ...         NaN   \n",
       "1          NaN          NaN            NaN            NaN  ...         NaN   \n",
       "2          NaN          NaN            NaN            NaN  ...         NaN   \n",
       "3          NaN          NaN            NaN            NaN  ...         NaN   \n",
       "4          NaN          NaN            NaN            NaN  ...         NaN   \n",
       "\n",
       "   FEED_KWATSON  PROCESS_T_WABT  X370PLUS  PROCESS_PP_H2_OUT  FEED_TMP  \\\n",
       "0           NaN        0.503792       NaN           0.483352       NaN   \n",
       "1           NaN        0.514416       NaN           0.462734       NaN   \n",
       "2           NaN        0.532122       NaN           0.454243       NaN   \n",
       "3           NaN        0.549828       NaN           0.455298       NaN   \n",
       "4           NaN        0.518665       NaN           0.460993       NaN   \n",
       "\n",
       "   actual.values  PLANT_NAME        DATE  CYCLE_NUMBER  \n",
       "0       0.733574        27.0  24/07/2007             4  \n",
       "1       0.729958        27.0  07/08/2007             4  \n",
       "2       0.798674        27.0  21/08/2007             4  \n",
       "3       0.779385        27.0  04/09/2007             4  \n",
       "4       0.677517        27.0  02/10/2007             4  \n",
       "\n",
       "[5 rows x 27 columns]"
      ]
     },
     "execution_count": 15,
     "metadata": {},
     "output_type": "execute_result"
    }
   ],
   "source": [
    "df.head()"
   ]
  },
  {
   "cell_type": "code",
   "execution_count": 16,
   "metadata": {},
   "outputs": [
    {
     "data": {
      "text/plain": [
       "(8000, 27)"
      ]
     },
     "execution_count": 16,
     "metadata": {},
     "output_type": "execute_result"
    }
   ],
   "source": [
    "df.shape"
   ]
  },
  {
   "cell_type": "code",
   "execution_count": 17,
   "metadata": {},
   "outputs": [
    {
     "name": "stdout",
     "output_type": "stream",
     "text": [
      "<class 'pandas.core.frame.DataFrame'>\n",
      "RangeIndex: 8000 entries, 0 to 7999\n",
      "Data columns (total 27 columns):\n",
      " #   Column             Non-Null Count  Dtype  \n",
      "---  ------             --------------  -----  \n",
      " 0   FEED_D154          7976 non-null   float64\n",
      " 1   FEED_DS_005        3136 non-null   float64\n",
      " 2   FEED_DS_010        3136 non-null   float64\n",
      " 3   FEED_DS_030        3136 non-null   float64\n",
      " 4   FEED_DS_050        3136 non-null   float64\n",
      " 5   FEED_DS_070        3137 non-null   float64\n",
      " 6   FEED_DS_090        3136 non-null   float64\n",
      " 7   FEED_DS_095        3137 non-null   float64\n",
      " 8   DIESEL_DS_005      3588 non-null   float64\n",
      " 9   DIESEL_DS_010      3588 non-null   float64\n",
      " 10  DIESEL_DS_030      3588 non-null   float64\n",
      " 11  DIESEL_DS_050      3588 non-null   float64\n",
      " 12  DIESEL_DS_070      3588 non-null   float64\n",
      " 13  DIESEL_DS_090      3588 non-null   float64\n",
      " 14  DIESEL_DS_095      3588 non-null   float64\n",
      " 15  FEED_SULFUR        8000 non-null   float64\n",
      " 16  FEED_NITROGEN      8000 non-null   float64\n",
      " 17  FEED_MeABP         3136 non-null   float64\n",
      " 18  FEED_KWATSON       3113 non-null   float64\n",
      " 19  PROCESS_T_WABT     7369 non-null   float64\n",
      " 20  X370PLUS           3073 non-null   float64\n",
      " 21  PROCESS_PP_H2_OUT  6295 non-null   float64\n",
      " 22  FEED_TMP           3136 non-null   float64\n",
      " 23  actual.values      5402 non-null   float64\n",
      " 24  PLANT_NAME         8000 non-null   float64\n",
      " 25  DATE               8000 non-null   object \n",
      " 26  CYCLE_NUMBER       8000 non-null   int64  \n",
      "dtypes: float64(25), int64(1), object(1)\n",
      "memory usage: 1.6+ MB\n"
     ]
    }
   ],
   "source": [
    "df.info()"
   ]
  },
  {
   "cell_type": "markdown",
   "metadata": {},
   "source": [
    "# Exploration"
   ]
  },
  {
   "cell_type": "markdown",
   "metadata": {},
   "source": [
    "j'utilise le dataframe data pour l'exploration pour ne prendre en compte que les données quantitatives mesurables (sans date, cycle) et aussi la variable 'PLANT_NAME' pour une analyse de groupe"
   ]
  },
  {
   "cell_type": "code",
   "execution_count": 18,
   "metadata": {},
   "outputs": [
    {
     "data": {
      "text/html": [
       "<div>\n",
       "<style scoped>\n",
       "    .dataframe tbody tr th:only-of-type {\n",
       "        vertical-align: middle;\n",
       "    }\n",
       "\n",
       "    .dataframe tbody tr th {\n",
       "        vertical-align: top;\n",
       "    }\n",
       "\n",
       "    .dataframe thead th {\n",
       "        text-align: right;\n",
       "    }\n",
       "</style>\n",
       "<table border=\"1\" class=\"dataframe\">\n",
       "  <thead>\n",
       "    <tr style=\"text-align: right;\">\n",
       "      <th></th>\n",
       "      <th>FEED_D154</th>\n",
       "      <th>FEED_DS_005</th>\n",
       "      <th>FEED_DS_010</th>\n",
       "      <th>FEED_DS_030</th>\n",
       "      <th>FEED_DS_050</th>\n",
       "      <th>FEED_DS_070</th>\n",
       "      <th>FEED_DS_090</th>\n",
       "      <th>FEED_DS_095</th>\n",
       "      <th>DIESEL_DS_005</th>\n",
       "      <th>DIESEL_DS_010</th>\n",
       "      <th>...</th>\n",
       "      <th>FEED_NITROGEN</th>\n",
       "      <th>FEED_MeABP</th>\n",
       "      <th>FEED_KWATSON</th>\n",
       "      <th>PROCESS_T_WABT</th>\n",
       "      <th>X370PLUS</th>\n",
       "      <th>PROCESS_PP_H2_OUT</th>\n",
       "      <th>FEED_TMP</th>\n",
       "      <th>actual.values</th>\n",
       "      <th>PLANT_NAME</th>\n",
       "      <th>CYCLE_NUMBER</th>\n",
       "    </tr>\n",
       "  </thead>\n",
       "  <tbody>\n",
       "    <tr>\n",
       "      <th>count</th>\n",
       "      <td>7976.000000</td>\n",
       "      <td>3136.000000</td>\n",
       "      <td>3136.000000</td>\n",
       "      <td>3136.000000</td>\n",
       "      <td>3136.000000</td>\n",
       "      <td>3137.000000</td>\n",
       "      <td>3136.000000</td>\n",
       "      <td>3137.000000</td>\n",
       "      <td>3588.000000</td>\n",
       "      <td>3588.000000</td>\n",
       "      <td>...</td>\n",
       "      <td>8000.000000</td>\n",
       "      <td>3136.000000</td>\n",
       "      <td>3113.000000</td>\n",
       "      <td>7369.000000</td>\n",
       "      <td>3073.000000</td>\n",
       "      <td>6295.000000</td>\n",
       "      <td>3136.000000</td>\n",
       "      <td>5402.000000</td>\n",
       "      <td>8000.000000</td>\n",
       "      <td>8000.000000</td>\n",
       "    </tr>\n",
       "    <tr>\n",
       "      <th>mean</th>\n",
       "      <td>0.725331</td>\n",
       "      <td>0.387235</td>\n",
       "      <td>0.435071</td>\n",
       "      <td>0.545378</td>\n",
       "      <td>0.625241</td>\n",
       "      <td>0.703289</td>\n",
       "      <td>0.800249</td>\n",
       "      <td>0.837301</td>\n",
       "      <td>0.193349</td>\n",
       "      <td>0.266521</td>\n",
       "      <td>...</td>\n",
       "      <td>0.185723</td>\n",
       "      <td>0.723734</td>\n",
       "      <td>0.398551</td>\n",
       "      <td>0.536414</td>\n",
       "      <td>0.967114</td>\n",
       "      <td>0.595645</td>\n",
       "      <td>0.712415</td>\n",
       "      <td>0.742638</td>\n",
       "      <td>12.648375</td>\n",
       "      <td>2.368750</td>\n",
       "    </tr>\n",
       "    <tr>\n",
       "      <th>std</th>\n",
       "      <td>0.066122</td>\n",
       "      <td>0.090048</td>\n",
       "      <td>0.087803</td>\n",
       "      <td>0.067639</td>\n",
       "      <td>0.050376</td>\n",
       "      <td>0.047612</td>\n",
       "      <td>0.048153</td>\n",
       "      <td>0.048199</td>\n",
       "      <td>0.073325</td>\n",
       "      <td>0.069445</td>\n",
       "      <td>...</td>\n",
       "      <td>0.139806</td>\n",
       "      <td>0.090816</td>\n",
       "      <td>0.121210</td>\n",
       "      <td>0.129384</td>\n",
       "      <td>0.018510</td>\n",
       "      <td>0.188825</td>\n",
       "      <td>0.047050</td>\n",
       "      <td>0.085691</td>\n",
       "      <td>7.451421</td>\n",
       "      <td>1.666469</td>\n",
       "    </tr>\n",
       "    <tr>\n",
       "      <th>min</th>\n",
       "      <td>0.000000</td>\n",
       "      <td>0.000000</td>\n",
       "      <td>0.047092</td>\n",
       "      <td>0.181195</td>\n",
       "      <td>0.224143</td>\n",
       "      <td>0.339713</td>\n",
       "      <td>0.394960</td>\n",
       "      <td>0.441423</td>\n",
       "      <td>0.000000</td>\n",
       "      <td>0.043644</td>\n",
       "      <td>...</td>\n",
       "      <td>0.000000</td>\n",
       "      <td>0.000000</td>\n",
       "      <td>0.000000</td>\n",
       "      <td>0.000000</td>\n",
       "      <td>0.000000</td>\n",
       "      <td>0.000000</td>\n",
       "      <td>0.354048</td>\n",
       "      <td>0.000000</td>\n",
       "      <td>1.000000</td>\n",
       "      <td>1.000000</td>\n",
       "    </tr>\n",
       "    <tr>\n",
       "      <th>25%</th>\n",
       "      <td>0.693073</td>\n",
       "      <td>0.370558</td>\n",
       "      <td>0.429124</td>\n",
       "      <td>0.528698</td>\n",
       "      <td>0.606740</td>\n",
       "      <td>0.680957</td>\n",
       "      <td>0.772745</td>\n",
       "      <td>0.811755</td>\n",
       "      <td>0.133539</td>\n",
       "      <td>0.205900</td>\n",
       "      <td>...</td>\n",
       "      <td>0.102956</td>\n",
       "      <td>0.690398</td>\n",
       "      <td>0.337093</td>\n",
       "      <td>0.456283</td>\n",
       "      <td>0.964091</td>\n",
       "      <td>0.472434</td>\n",
       "      <td>0.692088</td>\n",
       "      <td>0.688366</td>\n",
       "      <td>6.000000</td>\n",
       "      <td>1.000000</td>\n",
       "    </tr>\n",
       "    <tr>\n",
       "      <th>50%</th>\n",
       "      <td>0.737311</td>\n",
       "      <td>0.410578</td>\n",
       "      <td>0.456458</td>\n",
       "      <td>0.552651</td>\n",
       "      <td>0.625046</td>\n",
       "      <td>0.702896</td>\n",
       "      <td>0.802713</td>\n",
       "      <td>0.841243</td>\n",
       "      <td>0.193636</td>\n",
       "      <td>0.264458</td>\n",
       "      <td>...</td>\n",
       "      <td>0.163221</td>\n",
       "      <td>0.723393</td>\n",
       "      <td>0.395502</td>\n",
       "      <td>0.545789</td>\n",
       "      <td>0.966658</td>\n",
       "      <td>0.551366</td>\n",
       "      <td>0.715818</td>\n",
       "      <td>0.751658</td>\n",
       "      <td>12.000000</td>\n",
       "      <td>2.000000</td>\n",
       "    </tr>\n",
       "    <tr>\n",
       "      <th>75%</th>\n",
       "      <td>0.766860</td>\n",
       "      <td>0.442008</td>\n",
       "      <td>0.478588</td>\n",
       "      <td>0.579009</td>\n",
       "      <td>0.645818</td>\n",
       "      <td>0.722656</td>\n",
       "      <td>0.827340</td>\n",
       "      <td>0.862649</td>\n",
       "      <td>0.244707</td>\n",
       "      <td>0.318747</td>\n",
       "      <td>...</td>\n",
       "      <td>0.224955</td>\n",
       "      <td>0.760829</td>\n",
       "      <td>0.464880</td>\n",
       "      <td>0.628161</td>\n",
       "      <td>0.969606</td>\n",
       "      <td>0.760298</td>\n",
       "      <td>0.735260</td>\n",
       "      <td>0.793704</td>\n",
       "      <td>20.000000</td>\n",
       "      <td>3.000000</td>\n",
       "    </tr>\n",
       "    <tr>\n",
       "      <th>max</th>\n",
       "      <td>1.000000</td>\n",
       "      <td>0.614343</td>\n",
       "      <td>0.646451</td>\n",
       "      <td>0.757761</td>\n",
       "      <td>0.778567</td>\n",
       "      <td>0.878129</td>\n",
       "      <td>0.930114</td>\n",
       "      <td>1.000000</td>\n",
       "      <td>0.401774</td>\n",
       "      <td>0.568852</td>\n",
       "      <td>...</td>\n",
       "      <td>1.000000</td>\n",
       "      <td>1.000000</td>\n",
       "      <td>1.000000</td>\n",
       "      <td>1.000000</td>\n",
       "      <td>1.000000</td>\n",
       "      <td>1.000000</td>\n",
       "      <td>0.846747</td>\n",
       "      <td>1.000000</td>\n",
       "      <td>27.000000</td>\n",
       "      <td>8.000000</td>\n",
       "    </tr>\n",
       "  </tbody>\n",
       "</table>\n",
       "<p>8 rows × 26 columns</p>\n",
       "</div>"
      ],
      "text/plain": [
       "         FEED_D154  FEED_DS_005  FEED_DS_010  FEED_DS_030  FEED_DS_050  \\\n",
       "count  7976.000000  3136.000000  3136.000000  3136.000000  3136.000000   \n",
       "mean      0.725331     0.387235     0.435071     0.545378     0.625241   \n",
       "std       0.066122     0.090048     0.087803     0.067639     0.050376   \n",
       "min       0.000000     0.000000     0.047092     0.181195     0.224143   \n",
       "25%       0.693073     0.370558     0.429124     0.528698     0.606740   \n",
       "50%       0.737311     0.410578     0.456458     0.552651     0.625046   \n",
       "75%       0.766860     0.442008     0.478588     0.579009     0.645818   \n",
       "max       1.000000     0.614343     0.646451     0.757761     0.778567   \n",
       "\n",
       "       FEED_DS_070  FEED_DS_090  FEED_DS_095  DIESEL_DS_005  DIESEL_DS_010  \\\n",
       "count  3137.000000  3136.000000  3137.000000    3588.000000    3588.000000   \n",
       "mean      0.703289     0.800249     0.837301       0.193349       0.266521   \n",
       "std       0.047612     0.048153     0.048199       0.073325       0.069445   \n",
       "min       0.339713     0.394960     0.441423       0.000000       0.043644   \n",
       "25%       0.680957     0.772745     0.811755       0.133539       0.205900   \n",
       "50%       0.702896     0.802713     0.841243       0.193636       0.264458   \n",
       "75%       0.722656     0.827340     0.862649       0.244707       0.318747   \n",
       "max       0.878129     0.930114     1.000000       0.401774       0.568852   \n",
       "\n",
       "       ...  FEED_NITROGEN   FEED_MeABP  FEED_KWATSON  PROCESS_T_WABT  \\\n",
       "count  ...    8000.000000  3136.000000   3113.000000     7369.000000   \n",
       "mean   ...       0.185723     0.723734      0.398551        0.536414   \n",
       "std    ...       0.139806     0.090816      0.121210        0.129384   \n",
       "min    ...       0.000000     0.000000      0.000000        0.000000   \n",
       "25%    ...       0.102956     0.690398      0.337093        0.456283   \n",
       "50%    ...       0.163221     0.723393      0.395502        0.545789   \n",
       "75%    ...       0.224955     0.760829      0.464880        0.628161   \n",
       "max    ...       1.000000     1.000000      1.000000        1.000000   \n",
       "\n",
       "          X370PLUS  PROCESS_PP_H2_OUT     FEED_TMP  actual.values  \\\n",
       "count  3073.000000        6295.000000  3136.000000    5402.000000   \n",
       "mean      0.967114           0.595645     0.712415       0.742638   \n",
       "std       0.018510           0.188825     0.047050       0.085691   \n",
       "min       0.000000           0.000000     0.354048       0.000000   \n",
       "25%       0.964091           0.472434     0.692088       0.688366   \n",
       "50%       0.966658           0.551366     0.715818       0.751658   \n",
       "75%       0.969606           0.760298     0.735260       0.793704   \n",
       "max       1.000000           1.000000     0.846747       1.000000   \n",
       "\n",
       "        PLANT_NAME  CYCLE_NUMBER  \n",
       "count  8000.000000   8000.000000  \n",
       "mean     12.648375      2.368750  \n",
       "std       7.451421      1.666469  \n",
       "min       1.000000      1.000000  \n",
       "25%       6.000000      1.000000  \n",
       "50%      12.000000      2.000000  \n",
       "75%      20.000000      3.000000  \n",
       "max      27.000000      8.000000  \n",
       "\n",
       "[8 rows x 26 columns]"
      ]
     },
     "execution_count": 18,
     "metadata": {},
     "output_type": "execute_result"
    }
   ],
   "source": [
    "df.describe()"
   ]
  },
  {
   "cell_type": "markdown",
   "metadata": {},
   "source": [
    "## Visualisation des données globales"
   ]
  },
  {
   "cell_type": "markdown",
   "metadata": {},
   "source": [
    "### Hist de répartition de la densité des données"
   ]
  },
  {
   "cell_type": "code",
   "execution_count": 19,
   "metadata": {},
   "outputs": [
    {
     "data": {
      "text/plain": [
       "<matplotlib.legend.Legend at 0x1435e54a340>"
      ]
     },
     "execution_count": 19,
     "metadata": {},
     "output_type": "execute_result"
    },
    {
     "data": {
      "image/png": "[encoded data removed]",
      "text/plain": [
       "<Figure size 432x288 with 1 Axes>"
      ]
     },
     "metadata": {
      "needs_background": "light"
     },
     "output_type": "display_data"
    }
   ],
   "source": [
    "df.iloc[:,:-3].plot.hist()\n",
    "plt.legend(loc=(2, 0))"
   ]
  },
  {
   "cell_type": "markdown",
   "metadata": {},
   "source": [
    "Il y'a des colonnes beaucoup plus fourni en terme de données que d'autres."
   ]
  },
  {
   "cell_type": "markdown",
   "metadata": {},
   "source": [
    "### Boxplot par variables"
   ]
  },
  {
   "cell_type": "code",
   "execution_count": 20,
   "metadata": {},
   "outputs": [
    {
     "data": {
      "text/plain": [
       "<AxesSubplot:>"
      ]
     },
     "execution_count": 20,
     "metadata": {},
     "output_type": "execute_result"
    },
    {
     "data": {
      "image/png": "[encoded data removed]",
      "text/plain": [
       "<Figure size 1080x576 with 1 Axes>"
      ]
     },
     "metadata": {
      "needs_background": "light"
     },
     "output_type": "display_data"
    }
   ],
   "source": [
    "df.iloc[:,:-3].boxplot(grid=False, rot=45, fontsize=10, figsize=(15,8))"
   ]
  },
  {
   "cell_type": "markdown",
   "metadata": {},
   "source": [
    "Nos données sont très diversifiés et ont beaucoup trop de dimensions pour être exploités"
   ]
  },
  {
   "cell_type": "markdown",
   "metadata": {},
   "source": [
    "### PCA "
   ]
  },
  {
   "cell_type": "code",
   "execution_count": 21,
   "metadata": {},
   "outputs": [
    {
     "data": {
      "text/html": [
       "<div>\n",
       "<style scoped>\n",
       "    .dataframe tbody tr th:only-of-type {\n",
       "        vertical-align: middle;\n",
       "    }\n",
       "\n",
       "    .dataframe tbody tr th {\n",
       "        vertical-align: top;\n",
       "    }\n",
       "\n",
       "    .dataframe thead th {\n",
       "        text-align: right;\n",
       "    }\n",
       "</style>\n",
       "<table border=\"1\" class=\"dataframe\">\n",
       "  <thead>\n",
       "    <tr style=\"text-align: right;\">\n",
       "      <th></th>\n",
       "      <th>FEED_D154</th>\n",
       "      <th>FEED_DS_005</th>\n",
       "      <th>FEED_DS_010</th>\n",
       "      <th>FEED_DS_030</th>\n",
       "      <th>FEED_DS_050</th>\n",
       "      <th>FEED_DS_070</th>\n",
       "      <th>FEED_DS_090</th>\n",
       "      <th>FEED_DS_095</th>\n",
       "      <th>DIESEL_DS_005</th>\n",
       "      <th>DIESEL_DS_010</th>\n",
       "      <th>...</th>\n",
       "      <th>FEED_MeABP</th>\n",
       "      <th>FEED_KWATSON</th>\n",
       "      <th>PROCESS_T_WABT</th>\n",
       "      <th>X370PLUS</th>\n",
       "      <th>PROCESS_PP_H2_OUT</th>\n",
       "      <th>FEED_TMP</th>\n",
       "      <th>actual.values</th>\n",
       "      <th>PLANT_NAME</th>\n",
       "      <th>DATE</th>\n",
       "      <th>CYCLE_NUMBER</th>\n",
       "    </tr>\n",
       "  </thead>\n",
       "  <tbody>\n",
       "    <tr>\n",
       "      <th>0</th>\n",
       "      <td>0.732158</td>\n",
       "      <td>NaN</td>\n",
       "      <td>NaN</td>\n",
       "      <td>NaN</td>\n",
       "      <td>NaN</td>\n",
       "      <td>NaN</td>\n",
       "      <td>NaN</td>\n",
       "      <td>NaN</td>\n",
       "      <td>NaN</td>\n",
       "      <td>NaN</td>\n",
       "      <td>...</td>\n",
       "      <td>NaN</td>\n",
       "      <td>NaN</td>\n",
       "      <td>0.503792</td>\n",
       "      <td>NaN</td>\n",
       "      <td>0.483352</td>\n",
       "      <td>NaN</td>\n",
       "      <td>0.733574</td>\n",
       "      <td>27.0</td>\n",
       "      <td>24/07/2007</td>\n",
       "      <td>4</td>\n",
       "    </tr>\n",
       "    <tr>\n",
       "      <th>1</th>\n",
       "      <td>0.730097</td>\n",
       "      <td>NaN</td>\n",
       "      <td>NaN</td>\n",
       "      <td>NaN</td>\n",
       "      <td>NaN</td>\n",
       "      <td>NaN</td>\n",
       "      <td>NaN</td>\n",
       "      <td>NaN</td>\n",
       "      <td>NaN</td>\n",
       "      <td>NaN</td>\n",
       "      <td>...</td>\n",
       "      <td>NaN</td>\n",
       "      <td>NaN</td>\n",
       "      <td>0.514416</td>\n",
       "      <td>NaN</td>\n",
       "      <td>0.462734</td>\n",
       "      <td>NaN</td>\n",
       "      <td>0.729958</td>\n",
       "      <td>27.0</td>\n",
       "      <td>07/08/2007</td>\n",
       "      <td>4</td>\n",
       "    </tr>\n",
       "    <tr>\n",
       "      <th>2</th>\n",
       "      <td>0.747273</td>\n",
       "      <td>NaN</td>\n",
       "      <td>NaN</td>\n",
       "      <td>NaN</td>\n",
       "      <td>NaN</td>\n",
       "      <td>NaN</td>\n",
       "      <td>NaN</td>\n",
       "      <td>NaN</td>\n",
       "      <td>NaN</td>\n",
       "      <td>NaN</td>\n",
       "      <td>...</td>\n",
       "      <td>NaN</td>\n",
       "      <td>NaN</td>\n",
       "      <td>0.532122</td>\n",
       "      <td>NaN</td>\n",
       "      <td>0.454243</td>\n",
       "      <td>NaN</td>\n",
       "      <td>0.798674</td>\n",
       "      <td>27.0</td>\n",
       "      <td>21/08/2007</td>\n",
       "      <td>4</td>\n",
       "    </tr>\n",
       "    <tr>\n",
       "      <th>3</th>\n",
       "      <td>0.734906</td>\n",
       "      <td>NaN</td>\n",
       "      <td>NaN</td>\n",
       "      <td>NaN</td>\n",
       "      <td>NaN</td>\n",
       "      <td>NaN</td>\n",
       "      <td>NaN</td>\n",
       "      <td>NaN</td>\n",
       "      <td>NaN</td>\n",
       "      <td>NaN</td>\n",
       "      <td>...</td>\n",
       "      <td>NaN</td>\n",
       "      <td>NaN</td>\n",
       "      <td>0.549828</td>\n",
       "      <td>NaN</td>\n",
       "      <td>0.455298</td>\n",
       "      <td>NaN</td>\n",
       "      <td>0.779385</td>\n",
       "      <td>27.0</td>\n",
       "      <td>04/09/2007</td>\n",
       "      <td>4</td>\n",
       "    </tr>\n",
       "    <tr>\n",
       "      <th>4</th>\n",
       "      <td>0.749678</td>\n",
       "      <td>NaN</td>\n",
       "      <td>NaN</td>\n",
       "      <td>NaN</td>\n",
       "      <td>NaN</td>\n",
       "      <td>NaN</td>\n",
       "      <td>NaN</td>\n",
       "      <td>NaN</td>\n",
       "      <td>NaN</td>\n",
       "      <td>NaN</td>\n",
       "      <td>...</td>\n",
       "      <td>NaN</td>\n",
       "      <td>NaN</td>\n",
       "      <td>0.518665</td>\n",
       "      <td>NaN</td>\n",
       "      <td>0.460993</td>\n",
       "      <td>NaN</td>\n",
       "      <td>0.677517</td>\n",
       "      <td>27.0</td>\n",
       "      <td>02/10/2007</td>\n",
       "      <td>4</td>\n",
       "    </tr>\n",
       "    <tr>\n",
       "      <th>...</th>\n",
       "      <td>...</td>\n",
       "      <td>...</td>\n",
       "      <td>...</td>\n",
       "      <td>...</td>\n",
       "      <td>...</td>\n",
       "      <td>...</td>\n",
       "      <td>...</td>\n",
       "      <td>...</td>\n",
       "      <td>...</td>\n",
       "      <td>...</td>\n",
       "      <td>...</td>\n",
       "      <td>...</td>\n",
       "      <td>...</td>\n",
       "      <td>...</td>\n",
       "      <td>...</td>\n",
       "      <td>...</td>\n",
       "      <td>...</td>\n",
       "      <td>...</td>\n",
       "      <td>...</td>\n",
       "      <td>...</td>\n",
       "      <td>...</td>\n",
       "    </tr>\n",
       "    <tr>\n",
       "      <th>7995</th>\n",
       "      <td>0.669354</td>\n",
       "      <td>0.336069</td>\n",
       "      <td>0.430682</td>\n",
       "      <td>0.570889</td>\n",
       "      <td>0.648164</td>\n",
       "      <td>0.729933</td>\n",
       "      <td>0.820479</td>\n",
       "      <td>0.865431</td>\n",
       "      <td>0.349915</td>\n",
       "      <td>0.391945</td>\n",
       "      <td>...</td>\n",
       "      <td>0.765057</td>\n",
       "      <td>0.494375</td>\n",
       "      <td>0.484103</td>\n",
       "      <td>0.960717</td>\n",
       "      <td>0.329769</td>\n",
       "      <td>0.727732</td>\n",
       "      <td>0.747859</td>\n",
       "      <td>1.0</td>\n",
       "      <td>22/07/2009</td>\n",
       "      <td>1</td>\n",
       "    </tr>\n",
       "    <tr>\n",
       "      <th>7996</th>\n",
       "      <td>0.694279</td>\n",
       "      <td>0.334571</td>\n",
       "      <td>0.423404</td>\n",
       "      <td>0.573886</td>\n",
       "      <td>0.653087</td>\n",
       "      <td>0.739780</td>\n",
       "      <td>0.869070</td>\n",
       "      <td>0.894663</td>\n",
       "      <td>0.336206</td>\n",
       "      <td>0.394995</td>\n",
       "      <td>...</td>\n",
       "      <td>0.773929</td>\n",
       "      <td>0.458246</td>\n",
       "      <td>0.487541</td>\n",
       "      <td>0.960854</td>\n",
       "      <td>0.313151</td>\n",
       "      <td>0.745628</td>\n",
       "      <td>0.725991</td>\n",
       "      <td>1.0</td>\n",
       "      <td>29/07/2009</td>\n",
       "      <td>1</td>\n",
       "    </tr>\n",
       "    <tr>\n",
       "      <th>7997</th>\n",
       "      <td>0.674581</td>\n",
       "      <td>0.376526</td>\n",
       "      <td>0.446950</td>\n",
       "      <td>0.588014</td>\n",
       "      <td>0.657154</td>\n",
       "      <td>0.732716</td>\n",
       "      <td>0.867786</td>\n",
       "      <td>0.891598</td>\n",
       "      <td>0.322794</td>\n",
       "      <td>0.371510</td>\n",
       "      <td>...</td>\n",
       "      <td>0.781259</td>\n",
       "      <td>0.498905</td>\n",
       "      <td>0.542996</td>\n",
       "      <td>0.962612</td>\n",
       "      <td>0.318071</td>\n",
       "      <td>0.751032</td>\n",
       "      <td>0.745743</td>\n",
       "      <td>1.0</td>\n",
       "      <td>05/08/2009</td>\n",
       "      <td>1</td>\n",
       "    </tr>\n",
       "    <tr>\n",
       "      <th>7998</th>\n",
       "      <td>0.682621</td>\n",
       "      <td>0.352765</td>\n",
       "      <td>0.431538</td>\n",
       "      <td>0.575170</td>\n",
       "      <td>0.654157</td>\n",
       "      <td>0.735285</td>\n",
       "      <td>0.833537</td>\n",
       "      <td>0.877633</td>\n",
       "      <td>0.340974</td>\n",
       "      <td>0.389505</td>\n",
       "      <td>...</td>\n",
       "      <td>0.775858</td>\n",
       "      <td>0.480225</td>\n",
       "      <td>0.553571</td>\n",
       "      <td>0.961409</td>\n",
       "      <td>0.317302</td>\n",
       "      <td>0.738802</td>\n",
       "      <td>0.738689</td>\n",
       "      <td>1.0</td>\n",
       "      <td>19/08/2009</td>\n",
       "      <td>1</td>\n",
       "    </tr>\n",
       "    <tr>\n",
       "      <th>7999</th>\n",
       "      <td>0.696691</td>\n",
       "      <td>0.326865</td>\n",
       "      <td>0.413344</td>\n",
       "      <td>0.570461</td>\n",
       "      <td>0.648378</td>\n",
       "      <td>0.730362</td>\n",
       "      <td>0.842527</td>\n",
       "      <td>0.891760</td>\n",
       "      <td>0.338888</td>\n",
       "      <td>0.395909</td>\n",
       "      <td>...</td>\n",
       "      <td>0.765443</td>\n",
       "      <td>0.446900</td>\n",
       "      <td>0.551423</td>\n",
       "      <td>0.960945</td>\n",
       "      <td>0.293404</td>\n",
       "      <td>0.741523</td>\n",
       "      <td>0.728813</td>\n",
       "      <td>1.0</td>\n",
       "      <td>26/08/2009</td>\n",
       "      <td>1</td>\n",
       "    </tr>\n",
       "  </tbody>\n",
       "</table>\n",
       "<p>8000 rows × 27 columns</p>\n",
       "</div>"
      ],
      "text/plain": [
       "      FEED_D154  FEED_DS_005  FEED_DS_010  FEED_DS_030  FEED_DS_050  \\\n",
       "0      0.732158          NaN          NaN          NaN          NaN   \n",
       "1      0.730097          NaN          NaN          NaN          NaN   \n",
       "2      0.747273          NaN          NaN          NaN          NaN   \n",
       "3      0.734906          NaN          NaN          NaN          NaN   \n",
       "4      0.749678          NaN          NaN          NaN          NaN   \n",
       "...         ...          ...          ...          ...          ...   \n",
       "7995   0.669354     0.336069     0.430682     0.570889     0.648164   \n",
       "7996   0.694279     0.334571     0.423404     0.573886     0.653087   \n",
       "7997   0.674581     0.376526     0.446950     0.588014     0.657154   \n",
       "7998   0.682621     0.352765     0.431538     0.575170     0.654157   \n",
       "7999   0.696691     0.326865     0.413344     0.570461     0.648378   \n",
       "\n",
       "      FEED_DS_070  FEED_DS_090  FEED_DS_095  DIESEL_DS_005  DIESEL_DS_010  \\\n",
       "0             NaN          NaN          NaN            NaN            NaN   \n",
       "1             NaN          NaN          NaN            NaN            NaN   \n",
       "2             NaN          NaN          NaN            NaN            NaN   \n",
       "3             NaN          NaN          NaN            NaN            NaN   \n",
       "4             NaN          NaN          NaN            NaN            NaN   \n",
       "...           ...          ...          ...            ...            ...   \n",
       "7995     0.729933     0.820479     0.865431       0.349915       0.391945   \n",
       "7996     0.739780     0.869070     0.894663       0.336206       0.394995   \n",
       "7997     0.732716     0.867786     0.891598       0.322794       0.371510   \n",
       "7998     0.735285     0.833537     0.877633       0.340974       0.389505   \n",
       "7999     0.730362     0.842527     0.891760       0.338888       0.395909   \n",
       "\n",
       "      ...  FEED_MeABP  FEED_KWATSON  PROCESS_T_WABT  X370PLUS  \\\n",
       "0     ...         NaN           NaN        0.503792       NaN   \n",
       "1     ...         NaN           NaN        0.514416       NaN   \n",
       "2     ...         NaN           NaN        0.532122       NaN   \n",
       "3     ...         NaN           NaN        0.549828       NaN   \n",
       "4     ...         NaN           NaN        0.518665       NaN   \n",
       "...   ...         ...           ...             ...       ...   \n",
       "7995  ...    0.765057      0.494375        0.484103  0.960717   \n",
       "7996  ...    0.773929      0.458246        0.487541  0.960854   \n",
       "7997  ...    0.781259      0.498905        0.542996  0.962612   \n",
       "7998  ...    0.775858      0.480225        0.553571  0.961409   \n",
       "7999  ...    0.765443      0.446900        0.551423  0.960945   \n",
       "\n",
       "      PROCESS_PP_H2_OUT  FEED_TMP  actual.values  PLANT_NAME        DATE  \\\n",
       "0              0.483352       NaN       0.733574        27.0  24/07/2007   \n",
       "1              0.462734       NaN       0.729958        27.0  07/08/2007   \n",
       "2              0.454243       NaN       0.798674        27.0  21/08/2007   \n",
       "3              0.455298       NaN       0.779385        27.0  04/09/2007   \n",
       "4              0.460993       NaN       0.677517        27.0  02/10/2007   \n",
       "...                 ...       ...            ...         ...         ...   \n",
       "7995           0.329769  0.727732       0.747859         1.0  22/07/2009   \n",
       "7996           0.313151  0.745628       0.725991         1.0  29/07/2009   \n",
       "7997           0.318071  0.751032       0.745743         1.0  05/08/2009   \n",
       "7998           0.317302  0.738802       0.738689         1.0  19/08/2009   \n",
       "7999           0.293404  0.741523       0.728813         1.0  26/08/2009   \n",
       "\n",
       "      CYCLE_NUMBER  \n",
       "0                4  \n",
       "1                4  \n",
       "2                4  \n",
       "3                4  \n",
       "4                4  \n",
       "...            ...  \n",
       "7995             1  \n",
       "7996             1  \n",
       "7997             1  \n",
       "7998             1  \n",
       "7999             1  \n",
       "\n",
       "[8000 rows x 27 columns]"
      ]
     },
     "execution_count": 21,
     "metadata": {},
     "output_type": "execute_result"
    }
   ],
   "source": [
    "df"
   ]
  },
  {
   "cell_type": "code",
   "execution_count": 22,
   "metadata": {},
   "outputs": [],
   "source": [
    "data_pca = data[data.columns.drop('actual.values')]"
   ]
  },
  {
   "cell_type": "code",
   "execution_count": 23,
   "metadata": {},
   "outputs": [
    {
     "data": {
      "text/plain": [
       "FEED_D154             0.3000\n",
       "FEED_DS_005          60.8000\n",
       "FEED_DS_010          60.8000\n",
       "FEED_DS_030          60.8000\n",
       "FEED_DS_050          60.8000\n",
       "FEED_DS_070          60.7875\n",
       "FEED_DS_090          60.8000\n",
       "FEED_DS_095          60.7875\n",
       "DIESEL_DS_005        55.1500\n",
       "DIESEL_DS_010        55.1500\n",
       "DIESEL_DS_030        55.1500\n",
       "DIESEL_DS_050        55.1500\n",
       "DIESEL_DS_070        55.1500\n",
       "DIESEL_DS_090        55.1500\n",
       "DIESEL_DS_095        55.1500\n",
       "FEED_SULFUR           0.0000\n",
       "FEED_NITROGEN         0.0000\n",
       "FEED_MeABP           60.8000\n",
       "FEED_KWATSON         61.0875\n",
       "PROCESS_T_WABT        7.8875\n",
       "X370PLUS             61.5875\n",
       "PROCESS_PP_H2_OUT    21.3125\n",
       "FEED_TMP             60.8000\n",
       "PLANT_NAME            0.0000\n",
       "dtype: float64"
      ]
     },
     "execution_count": 23,
     "metadata": {},
     "output_type": "execute_result"
    }
   ],
   "source": [
    "data_pca.isna().sum() / len(data_pca) * 100"
   ]
  },
  {
   "cell_type": "markdown",
   "metadata": {},
   "source": [
    "On observe que de plus de trois quart des colonnes ont au moins la moitié de données composées de NaN."
   ]
  },
  {
   "cell_type": "code",
   "execution_count": 24,
   "metadata": {},
   "outputs": [
    {
     "data": {
      "text/plain": [
       "(8000, 24)"
      ]
     },
     "execution_count": 24,
     "metadata": {},
     "output_type": "execute_result"
    }
   ],
   "source": [
    "scaler = StandardScaler()\n",
    "x_scaler_pca = scaler.fit_transform(data_pca)\n",
    "x_scaler_pca.shape"
   ]
  },
  {
   "cell_type": "code",
   "execution_count": 25,
   "metadata": {},
   "outputs": [],
   "source": [
    "pca = PCA()\n",
    "x_pca_transform = pca.fit_transform(np.nan_to_num(x_scaler_pca))"
   ]
  },
  {
   "cell_type": "code",
   "execution_count": 26,
   "metadata": {},
   "outputs": [
    {
     "name": "stdout",
     "output_type": "stream",
     "text": [
      "Nombre d'axes : 9\n"
     ]
    }
   ],
   "source": [
    "cumsum = np.cumsum(pca.explained_variance_ratio_)\n",
    "dimension = np.argmax(cumsum >= 0.90) + 1\n",
    "print(\"Nombre d'axes : \"+str(dimension))"
   ]
  },
  {
   "cell_type": "markdown",
   "metadata": {},
   "source": [
    " on voit que la PCA a conservé 9 sur 23 colonnes tout en préservant 90% de l'informations des données "
   ]
  },
  {
   "cell_type": "code",
   "execution_count": 27,
   "metadata": {},
   "outputs": [
    {
     "data": {
      "text/plain": [
       "1.0"
      ]
     },
     "execution_count": 27,
     "metadata": {},
     "output_type": "execute_result"
    }
   ],
   "source": [
    "np.sum(pca.explained_variance_ratio_)"
   ]
  },
  {
   "cell_type": "code",
   "execution_count": 28,
   "metadata": {},
   "outputs": [],
   "source": [
    "pca_principal_component = pca.explained_variance_ratio_[0:9]"
   ]
  },
  {
   "cell_type": "code",
   "execution_count": 29,
   "metadata": {},
   "outputs": [
    {
     "data": {
      "image/png": "[encoded data removed]",
      "text/plain": [
       "<Figure size 1008x576 with 1 Axes>"
      ]
     },
     "metadata": {
      "needs_background": "light"
     },
     "output_type": "display_data"
    }
   ],
   "source": [
    "per_var = np.round(pca_principal_component* 100, decimals=1)\n",
    "labels = ['PC' + str(x) for x in range(1, len(per_var)+1)]\n",
    "\n",
    "plt.figure(figsize=(14,8))\n",
    "plt.bar(x=range(1,len(per_var)+1), height=per_var, tick_label=labels)\n",
    "plt.ylabel('Percentage of Explained Variance')\n",
    "plt.xlabel('Principal Component')\n",
    "plt.title('Scree Plot')\n",
    "plt.show()"
   ]
  },
  {
   "cell_type": "markdown",
   "metadata": {},
   "source": [
    "La première composante accapare plus de 25% de l’information disponible. Il y a un fort ‘’effet\n",
    "taille’’ dans nos données."
   ]
  },
  {
   "cell_type": "code",
   "execution_count": 30,
   "metadata": {},
   "outputs": [
    {
     "data": {
      "image/png": "[encoded data removed]",
      "text/plain": [
       "<Figure size 432x288 with 1 Axes>"
      ]
     },
     "metadata": {
      "needs_background": "light"
     },
     "output_type": "display_data"
    }
   ],
   "source": [
    "plt.plot(np.round(pca_principal_component* 100, decimals=1))\n",
    "plt.title(\"Scree plot\")\n",
    "plt.ylabel(\"Percentage of Explained Variance\")\n",
    "plt.xlabel(\"Name component\")\n",
    "plt.show()"
   ]
  },
  {
   "cell_type": "markdown",
   "metadata": {},
   "source": [
    "L'effet de \"cassure\" observé sur la courbe  permet de retenir le nombre de facteur a retenir. ici 2 (component 0 et 1) "
   ]
  },
  {
   "cell_type": "code",
   "execution_count": 31,
   "metadata": {},
   "outputs": [
    {
     "data": {
      "text/plain": [
       "(8000, 24)"
      ]
     },
     "execution_count": 31,
     "metadata": {},
     "output_type": "execute_result"
    }
   ],
   "source": [
    "x_pca_transform.shape"
   ]
  },
  {
   "cell_type": "code",
   "execution_count": 32,
   "metadata": {},
   "outputs": [],
   "source": [
    "pca = PCA(n_components=2)\n",
    "x_pca_transform = pca.fit_transform(np.nan_to_num(x_scaler_pca))"
   ]
  },
  {
   "cell_type": "code",
   "execution_count": 33,
   "metadata": {},
   "outputs": [],
   "source": [
    "dataset = pd.DataFrame()\n",
    "dataset['PCA_C0'] = x_pca_transform[:,0].tolist()\n",
    "dataset['PCA_C1'] = x_pca_transform[:,1].tolist()\n",
    "time_serie_pca = pd.concat([dataset,df['DATE']],axis=1)\n",
    "time_serie_pca['DATE'] = pd.to_datetime(df['DATE'])\n",
    "time_serie_pca.set_index(time_serie_pca['DATE'], drop=True, inplace=True)\n",
    "del time_serie_pca['DATE']"
   ]
  },
  {
   "cell_type": "code",
   "execution_count": 34,
   "metadata": {},
   "outputs": [
    {
     "data": {
      "text/html": [
       "<div>\n",
       "<style scoped>\n",
       "    .dataframe tbody tr th:only-of-type {\n",
       "        vertical-align: middle;\n",
       "    }\n",
       "\n",
       "    .dataframe tbody tr th {\n",
       "        vertical-align: top;\n",
       "    }\n",
       "\n",
       "    .dataframe thead th {\n",
       "        text-align: right;\n",
       "    }\n",
       "</style>\n",
       "<table border=\"1\" class=\"dataframe\">\n",
       "  <thead>\n",
       "    <tr style=\"text-align: right;\">\n",
       "      <th></th>\n",
       "      <th>PCA_C0</th>\n",
       "      <th>PCA_C1</th>\n",
       "    </tr>\n",
       "    <tr>\n",
       "      <th>DATE</th>\n",
       "      <th></th>\n",
       "      <th></th>\n",
       "    </tr>\n",
       "  </thead>\n",
       "  <tbody>\n",
       "    <tr>\n",
       "      <th>2007-07-24</th>\n",
       "      <td>-0.499992</td>\n",
       "      <td>-1.475262</td>\n",
       "    </tr>\n",
       "    <tr>\n",
       "      <th>2007-07-08</th>\n",
       "      <td>-0.533186</td>\n",
       "      <td>-1.590304</td>\n",
       "    </tr>\n",
       "    <tr>\n",
       "      <th>2007-08-21</th>\n",
       "      <td>-0.601200</td>\n",
       "      <td>-1.664759</td>\n",
       "    </tr>\n",
       "    <tr>\n",
       "      <th>2007-04-09</th>\n",
       "      <td>-0.469123</td>\n",
       "      <td>-1.675829</td>\n",
       "    </tr>\n",
       "    <tr>\n",
       "      <th>2007-02-10</th>\n",
       "      <td>-0.697681</td>\n",
       "      <td>-1.631668</td>\n",
       "    </tr>\n",
       "  </tbody>\n",
       "</table>\n",
       "</div>"
      ],
      "text/plain": [
       "              PCA_C0    PCA_C1\n",
       "DATE                          \n",
       "2007-07-24 -0.499992 -1.475262\n",
       "2007-07-08 -0.533186 -1.590304\n",
       "2007-08-21 -0.601200 -1.664759\n",
       "2007-04-09 -0.469123 -1.675829\n",
       "2007-02-10 -0.697681 -1.631668"
      ]
     },
     "execution_count": 34,
     "metadata": {},
     "output_type": "execute_result"
    }
   ],
   "source": [
    "time_serie_pca.head()"
   ]
  },
  {
   "cell_type": "code",
   "execution_count": 35,
   "metadata": {},
   "outputs": [
    {
     "data": {
      "text/plain": [
       "<AxesSubplot:xlabel='DATE'>"
      ]
     },
     "execution_count": 35,
     "metadata": {},
     "output_type": "execute_result"
    },
    {
     "data": {
      "image/png": "[encoded data removed]",
      "text/plain": [
       "<Figure size 432x288 with 1 Axes>"
      ]
     },
     "metadata": {
      "needs_background": "light"
     },
     "output_type": "display_data"
    }
   ],
   "source": [
    "time_serie_pca.plot(linestyle=None, style=['o', 'o']) "
   ]
  },
  {
   "cell_type": "markdown",
   "metadata": {},
   "source": [
    "On voit que les deux dimensions de la PCA suivent la même tendance spectral, donc les données evoluent de manière semblable sans que ces deux composants soientt corréles."
   ]
  },
  {
   "cell_type": "markdown",
   "metadata": {},
   "source": [
    "### Representation site par site"
   ]
  },
  {
   "cell_type": "code",
   "execution_count": 36,
   "metadata": {
    "scrolled": true
   },
   "outputs": [
    {
     "data": {
      "text/plain": [
       "<AxesSubplot:ylabel='PLANT_NAME'>"
      ]
     },
     "execution_count": 36,
     "metadata": {},
     "output_type": "execute_result"
    },
    {
     "data": {
      "image/png": "[encoded data removed]",
      "text/plain": [
       "<Figure size 432x288 with 1 Axes>"
      ]
     },
     "metadata": {},
     "output_type": "display_data"
    }
   ],
   "source": [
    "df[\"PLANT_NAME\"].value_counts(normalize=True).plot(kind='pie', autopct='%1.0f%%')"
   ]
  },
  {
   "cell_type": "markdown",
   "metadata": {},
   "source": [
    "Le site 6 contient le plus de données avec 1/5. C'est sans doute le site pour lequel il va falloir être le plus à l'affut pour le nettoyage de donnée si de nombreux données font parties de la selection de variable pour l'analyse de groupe"
   ]
  },
  {
   "cell_type": "code",
   "execution_count": 37,
   "metadata": {},
   "outputs": [],
   "source": [
    "time_serie_pca['PLANT_NAME'] = data['PLANT_NAME']"
   ]
  },
  {
   "cell_type": "code",
   "execution_count": 38,
   "metadata": {},
   "outputs": [
    {
     "data": {
      "text/html": [
       "<div>\n",
       "<style scoped>\n",
       "    .dataframe tbody tr th:only-of-type {\n",
       "        vertical-align: middle;\n",
       "    }\n",
       "\n",
       "    .dataframe tbody tr th {\n",
       "        vertical-align: top;\n",
       "    }\n",
       "\n",
       "    .dataframe thead th {\n",
       "        text-align: right;\n",
       "    }\n",
       "</style>\n",
       "<table border=\"1\" class=\"dataframe\">\n",
       "  <thead>\n",
       "    <tr style=\"text-align: right;\">\n",
       "      <th></th>\n",
       "      <th>DATE</th>\n",
       "      <th>PCA_C0</th>\n",
       "      <th>PCA_C1</th>\n",
       "      <th>PLANT_NAME</th>\n",
       "    </tr>\n",
       "  </thead>\n",
       "  <tbody>\n",
       "    <tr>\n",
       "      <th>0</th>\n",
       "      <td>2007-07-24</td>\n",
       "      <td>-0.499992</td>\n",
       "      <td>-1.475262</td>\n",
       "      <td>27.0</td>\n",
       "    </tr>\n",
       "    <tr>\n",
       "      <th>1</th>\n",
       "      <td>2007-07-08</td>\n",
       "      <td>-0.533186</td>\n",
       "      <td>-1.590304</td>\n",
       "      <td>27.0</td>\n",
       "    </tr>\n",
       "    <tr>\n",
       "      <th>2</th>\n",
       "      <td>2007-08-21</td>\n",
       "      <td>-0.601200</td>\n",
       "      <td>-1.664759</td>\n",
       "      <td>27.0</td>\n",
       "    </tr>\n",
       "    <tr>\n",
       "      <th>3</th>\n",
       "      <td>2007-04-09</td>\n",
       "      <td>-0.469123</td>\n",
       "      <td>-1.675829</td>\n",
       "      <td>27.0</td>\n",
       "    </tr>\n",
       "    <tr>\n",
       "      <th>4</th>\n",
       "      <td>2007-02-10</td>\n",
       "      <td>-0.697681</td>\n",
       "      <td>-1.631668</td>\n",
       "      <td>27.0</td>\n",
       "    </tr>\n",
       "    <tr>\n",
       "      <th>...</th>\n",
       "      <td>...</td>\n",
       "      <td>...</td>\n",
       "      <td>...</td>\n",
       "      <td>...</td>\n",
       "    </tr>\n",
       "    <tr>\n",
       "      <th>7995</th>\n",
       "      <td>2009-07-22</td>\n",
       "      <td>-1.453508</td>\n",
       "      <td>1.566167</td>\n",
       "      <td>1.0</td>\n",
       "    </tr>\n",
       "    <tr>\n",
       "      <th>7996</th>\n",
       "      <td>2009-07-29</td>\n",
       "      <td>-2.069547</td>\n",
       "      <td>1.439154</td>\n",
       "      <td>1.0</td>\n",
       "    </tr>\n",
       "    <tr>\n",
       "      <th>7997</th>\n",
       "      <td>2009-05-08</td>\n",
       "      <td>-1.167279</td>\n",
       "      <td>0.095054</td>\n",
       "      <td>1.0</td>\n",
       "    </tr>\n",
       "    <tr>\n",
       "      <th>7998</th>\n",
       "      <td>2009-08-19</td>\n",
       "      <td>-1.128276</td>\n",
       "      <td>0.790919</td>\n",
       "      <td>1.0</td>\n",
       "    </tr>\n",
       "    <tr>\n",
       "      <th>7999</th>\n",
       "      <td>2009-08-26</td>\n",
       "      <td>-1.781577</td>\n",
       "      <td>1.158886</td>\n",
       "      <td>1.0</td>\n",
       "    </tr>\n",
       "  </tbody>\n",
       "</table>\n",
       "<p>8000 rows × 4 columns</p>\n",
       "</div>"
      ],
      "text/plain": [
       "           DATE    PCA_C0    PCA_C1  PLANT_NAME\n",
       "0    2007-07-24 -0.499992 -1.475262        27.0\n",
       "1    2007-07-08 -0.533186 -1.590304        27.0\n",
       "2    2007-08-21 -0.601200 -1.664759        27.0\n",
       "3    2007-04-09 -0.469123 -1.675829        27.0\n",
       "4    2007-02-10 -0.697681 -1.631668        27.0\n",
       "...         ...       ...       ...         ...\n",
       "7995 2009-07-22 -1.453508  1.566167         1.0\n",
       "7996 2009-07-29 -2.069547  1.439154         1.0\n",
       "7997 2009-05-08 -1.167279  0.095054         1.0\n",
       "7998 2009-08-19 -1.128276  0.790919         1.0\n",
       "7999 2009-08-26 -1.781577  1.158886         1.0\n",
       "\n",
       "[8000 rows x 4 columns]"
      ]
     },
     "execution_count": 38,
     "metadata": {},
     "output_type": "execute_result"
    }
   ],
   "source": [
    "time_serie_pca = time_serie_pca.reset_index()\n",
    "time_serie_pca['PLANT_NAME'] = data['PLANT_NAME']\n",
    "time_serie_pca"
   ]
  },
  {
   "cell_type": "code",
   "execution_count": 39,
   "metadata": {},
   "outputs": [
    {
     "name": "stderr",
     "output_type": "stream",
     "text": [
      "C:\\Users\\laou6\\anaconda3\\lib\\site-packages\\seaborn\\_decorators.py:36: FutureWarning: Pass the following variables as keyword args: x, y, data. From version 0.12, the only valid positional argument will be `data`, and passing other arguments without an explicit keyword will result in an error or misinterpretation.\n",
      "  warnings.warn(\n"
     ]
    },
    {
     "data": {
      "image/png": "[encoded data removed]",
      "text/plain": [
       "<Figure size 720x360 with 1 Axes>"
      ]
     },
     "metadata": {
      "needs_background": "light"
     },
     "output_type": "display_data"
    }
   ],
   "source": [
    "import seaborn as sns\n",
    "sns.lmplot('PCA_C0', 'PCA_C1', time_serie_pca, hue='PLANT_NAME', fit_reg=False)\n",
    "fig = plt.gcf()\n",
    "fig.set_size_inches(10, 5)\n",
    "plt.show()"
   ]
  },
  {
   "cell_type": "markdown",
   "metadata": {},
   "source": [
    "On remarque une forte concentration de points au même endroit, ce qui indiquerait que les raffineries n’ont pas nécessairement des méthodes différentes de production d’une à l’autre sinon on aurait pu facilement identifier des clusters séparés. Ici les points isolés semblent être des outliers potentiels qu’il faudra traiter avant de construire nos modèles."
   ]
  },
  {
   "cell_type": "markdown",
   "metadata": {},
   "source": [
    "## Suppression des colonnes inutiles"
   ]
  },
  {
   "cell_type": "code",
   "execution_count": 40,
   "metadata": {},
   "outputs": [],
   "source": [
    "df = df.drop(columns = ['FEED_TMP', 'FEED_DS_030', 'FEED_DS_050', 'FEED_DS_070', 'FEED_MeABP', 'DIESEL_DS_030', 'DIESEL_DS_050', 'DIESEL_DS_070'])"
   ]
  },
  {
   "cell_type": "markdown",
   "metadata": {},
   "source": [
    "## Suppression de lignes"
   ]
  },
  {
   "cell_type": "markdown",
   "metadata": {},
   "source": [
    "### Valeurs manquantes"
   ]
  },
  {
   "cell_type": "code",
   "execution_count": 41,
   "metadata": {},
   "outputs": [],
   "source": [
    "df = df.dropna()"
   ]
  },
  {
   "cell_type": "code",
   "execution_count": 42,
   "metadata": {},
   "outputs": [
    {
     "data": {
      "text/plain": [
       "(2074, 19)"
      ]
     },
     "execution_count": 42,
     "metadata": {},
     "output_type": "execute_result"
    }
   ],
   "source": [
    "df.shape"
   ]
  },
  {
   "cell_type": "markdown",
   "metadata": {},
   "source": [
    "### Sites peu représentés"
   ]
  },
  {
   "cell_type": "code",
   "execution_count": 43,
   "metadata": {},
   "outputs": [
    {
     "data": {
      "text/plain": [
       "4.0     326\n",
       "14.0    322\n",
       "18.0    285\n",
       "10.0    270\n",
       "15.0    208\n",
       "21.0    184\n",
       "12.0    183\n",
       "1.0      88\n",
       "3.0      86\n",
       "16.0     72\n",
       "19.0     40\n",
       "24.0      6\n",
       "11.0      3\n",
       "9.0       1\n",
       "Name: PLANT_NAME, dtype: int64"
      ]
     },
     "execution_count": 43,
     "metadata": {},
     "output_type": "execute_result"
    }
   ],
   "source": [
    "df[\"PLANT_NAME\"].value_counts()"
   ]
  },
  {
   "cell_type": "code",
   "execution_count": 44,
   "metadata": {},
   "outputs": [],
   "source": [
    "df = df[~df[\"PLANT_NAME\"].isin([19.0, 24.0, 11.0, 9.0])]"
   ]
  },
  {
   "cell_type": "markdown",
   "metadata": {},
   "source": [
    "## Valeurs suspectes\n",
    "\n",
    "### Isolation Forest"
   ]
  },
  {
   "cell_type": "code",
   "execution_count": 45,
   "metadata": {},
   "outputs": [
    {
     "data": {
      "text/plain": [
       "2024"
      ]
     },
     "execution_count": 45,
     "metadata": {},
     "output_type": "execute_result"
    }
   ],
   "source": [
    "len(df)"
   ]
  },
  {
   "cell_type": "code",
   "execution_count": 46,
   "metadata": {},
   "outputs": [],
   "source": [
    "clf = IsolationForest(max_samples=300, contamination = 0.05, random_state=42) # on enleve 5% du dataset\n",
    "outliers = clf.fit_predict(df.iloc[:,:16])"
   ]
  },
  {
   "cell_type": "code",
   "execution_count": 47,
   "metadata": {},
   "outputs": [],
   "source": [
    "df[\"IF_outlier\"]=outliers"
   ]
  },
  {
   "cell_type": "code",
   "execution_count": 48,
   "metadata": {},
   "outputs": [],
   "source": [
    "df = df[df[\"IF_outlier\"]==1]"
   ]
  },
  {
   "cell_type": "code",
   "execution_count": 49,
   "metadata": {},
   "outputs": [
    {
     "data": {
      "text/plain": [
       "1922"
      ]
     },
     "execution_count": 49,
     "metadata": {},
     "output_type": "execute_result"
    }
   ],
   "source": [
    "len(df)"
   ]
  },
  {
   "cell_type": "markdown",
   "metadata": {},
   "source": [
    "## Boxplot après nettoyage"
   ]
  },
  {
   "cell_type": "code",
   "execution_count": 50,
   "metadata": {},
   "outputs": [
    {
     "data": {
      "text/plain": [
       "<AxesSubplot:>"
      ]
     },
     "execution_count": 50,
     "metadata": {},
     "output_type": "execute_result"
    },
    {
     "data": {
      "image/png": "[encoded data removed]",
      "text/plain": [
       "<Figure size 1080x576 with 1 Axes>"
      ]
     },
     "metadata": {
      "needs_background": "light"
     },
     "output_type": "display_data"
    }
   ],
   "source": [
    "df.iloc[:,:16].boxplot(grid=False, rot=45, fontsize=10, figsize=(15,8))"
   ]
  },
  {
   "cell_type": "markdown",
   "metadata": {},
   "source": [
    "On a enlevé beaucoup de valeurs aberrantes. On devrait pouvoir obtenir un modèle décent avec ces données."
   ]
  },
  {
   "cell_type": "markdown",
   "metadata": {},
   "source": [
    "## Stratified Sampling"
   ]
  },
  {
   "cell_type": "code",
   "execution_count": 51,
   "metadata": {},
   "outputs": [],
   "source": [
    "strat_train_set, strat_test_set = train_test_split(df.iloc[:,:-2], test_size=.2, random_state=42, stratify=df['PLANT_NAME']) # à voir pour la taille du test set"
   ]
  },
  {
   "cell_type": "code",
   "execution_count": 52,
   "metadata": {},
   "outputs": [
    {
     "data": {
      "text/plain": [
       "14.0    255\n",
       "18.0    222\n",
       "4.0     214\n",
       "10.0    214\n",
       "15.0    166\n",
       "21.0    147\n",
       "12.0    146\n",
       "3.0      69\n",
       "1.0      68\n",
       "16.0     36\n",
       "Name: PLANT_NAME, dtype: int64"
      ]
     },
     "execution_count": 52,
     "metadata": {},
     "output_type": "execute_result"
    }
   ],
   "source": [
    "strat_train_set[\"PLANT_NAME\"].value_counts()"
   ]
  },
  {
   "cell_type": "code",
   "execution_count": 53,
   "metadata": {},
   "outputs": [
    {
     "data": {
      "text/plain": [
       "14.0    64\n",
       "18.0    56\n",
       "10.0    53\n",
       "4.0     53\n",
       "15.0    42\n",
       "21.0    37\n",
       "12.0    37\n",
       "1.0     17\n",
       "3.0     17\n",
       "16.0     9\n",
       "Name: PLANT_NAME, dtype: int64"
      ]
     },
     "execution_count": 53,
     "metadata": {},
     "output_type": "execute_result"
    }
   ],
   "source": [
    "strat_test_set[\"PLANT_NAME\"].value_counts()"
   ]
  },
  {
   "cell_type": "markdown",
   "metadata": {},
   "source": [
    "On vérifie ci dessus la répartition des sites dans la base de validation par rapport à la base de calibration."
   ]
  },
  {
   "cell_type": "markdown",
   "metadata": {},
   "source": [
    "## Modèles"
   ]
  },
  {
   "cell_type": "markdown",
   "metadata": {},
   "source": [
    "### Global"
   ]
  },
  {
   "cell_type": "markdown",
   "metadata": {},
   "source": [
    "#### Linear Model"
   ]
  },
  {
   "cell_type": "code",
   "execution_count": 54,
   "metadata": {},
   "outputs": [],
   "source": [
    "reg = linear_model.LinearRegression()"
   ]
  },
  {
   "cell_type": "code",
   "execution_count": 55,
   "metadata": {},
   "outputs": [],
   "source": [
    "y_train = strat_train_set.iloc[:,15].values \n",
    "X_train = strat_train_set.iloc[:,0:15].values\n",
    "\n",
    "y_test = strat_test_set.iloc[:,15].values \n",
    "X_test = strat_test_set.iloc[:,0:15].values "
   ]
  },
  {
   "cell_type": "code",
   "execution_count": 56,
   "metadata": {},
   "outputs": [
    {
     "data": {
      "text/plain": [
       "LinearRegression()"
      ]
     },
     "execution_count": 56,
     "metadata": {},
     "output_type": "execute_result"
    }
   ],
   "source": [
    "reg.fit(X_train,y_train)"
   ]
  },
  {
   "cell_type": "code",
   "execution_count": 57,
   "metadata": {},
   "outputs": [
    {
     "data": {
      "text/plain": [
       "array([ 0.64935062, -0.12543204,  0.08269918, -0.78572732,  0.69251694,\n",
       "        0.06864668,  0.29192664,  0.88650909, -0.41466464, -0.0448232 ,\n",
       "        0.1256757 , -0.01506218,  0.10167985,  0.82996384,  0.09171192])"
      ]
     },
     "execution_count": 57,
     "metadata": {},
     "output_type": "execute_result"
    }
   ],
   "source": [
    "reg.coef_"
   ]
  },
  {
   "cell_type": "code",
   "execution_count": 58,
   "metadata": {},
   "outputs": [
    {
     "data": {
      "text/plain": [
       "-0.9866486568169948"
      ]
     },
     "execution_count": 58,
     "metadata": {},
     "output_type": "execute_result"
    }
   ],
   "source": [
    "reg.intercept_"
   ]
  },
  {
   "cell_type": "code",
   "execution_count": 59,
   "metadata": {},
   "outputs": [],
   "source": [
    "y_pred = reg.predict(X_test)"
   ]
  },
  {
   "cell_type": "code",
   "execution_count": 60,
   "metadata": {},
   "outputs": [
    {
     "name": "stdout",
     "output_type": "stream",
     "text": [
      "RMSEP LM : 0.04132795542220646\n",
      "MSE LM : 0.0017079998993798843\n",
      "MAE LM : 0.03051462937418349\n",
      "R^2 LM : 0.7183546464097665\n"
     ]
    }
   ],
   "source": [
    "print('RMSEP LM : '+str(mean_squared_error(y_test, y_pred,squared=False)))\n",
    "print('MSE LM : '+str(mean_squared_error(y_test, y_pred)))\n",
    "print('MAE LM : '+str(mean_absolute_error(y_test, y_pred)))\n",
    "print('R^2 LM : '+str(r2_score(y_test, y_pred)))"
   ]
  },
  {
   "cell_type": "code",
   "execution_count": 61,
   "metadata": {},
   "outputs": [
    {
     "data": {
      "image/png": "[encoded data removed]",
      "text/plain": [
       "<Figure size 720x720 with 1 Axes>"
      ]
     },
     "metadata": {
      "needs_background": "light"
     },
     "output_type": "display_data"
    }
   ],
   "source": [
    "plt.figure(figsize=(10,10))\n",
    "plt.scatter(y_test, y_pred, c='crimson')\n",
    "\n",
    "p1 = max(max(y_pred), max(y_test))\n",
    "p2 = min(min(y_pred), min(y_test))\n",
    "plt.plot([p1, p2], [p1, p2], 'b-')\n",
    "plt.xlabel('True Values', fontsize=15)\n",
    "plt.ylabel('Predictions', fontsize=15)\n",
    "plt.axis('equal')\n",
    "plt.show()"
   ]
  },
  {
   "cell_type": "markdown",
   "metadata": {},
   "source": [
    "#### Random Forest"
   ]
  },
  {
   "cell_type": "code",
   "execution_count": 62,
   "metadata": {},
   "outputs": [],
   "source": [
    "regr = RandomForestRegressor(max_depth=2, random_state=0)\n",
    "regr.fit(X_train, y_train)\n",
    "y_pred_rf = regr.predict(X_test)"
   ]
  },
  {
   "cell_type": "code",
   "execution_count": 63,
   "metadata": {},
   "outputs": [
    {
     "name": "stdout",
     "output_type": "stream",
     "text": [
      "RMSEP RF : 0.049244055235560205\n",
      "MSE RF : 0.0024249769760429046\n",
      "MAE RF: 0.03673158421518562\n",
      "R^2 RF: 0.6001267341328611\n"
     ]
    }
   ],
   "source": [
    "print('RMSEP RF : '+str(mean_squared_error(y_test, y_pred_rf,squared=False)))\n",
    "print('MSE RF : '+str(mean_squared_error(y_test, y_pred_rf)))\n",
    "print('MAE RF: '+str(mean_absolute_error(y_test, y_pred_rf)))\n",
    "print('R^2 RF: '+str(r2_score(y_test, y_pred_rf)))"
   ]
  },
  {
   "cell_type": "code",
   "execution_count": 64,
   "metadata": {},
   "outputs": [
    {
     "data": {
      "image/png": "[encoded data removed]",
      "text/plain": [
       "<Figure size 720x720 with 1 Axes>"
      ]
     },
     "metadata": {
      "needs_background": "light"
     },
     "output_type": "display_data"
    }
   ],
   "source": [
    "plt.figure(figsize=(10,10))\n",
    "plt.scatter(y_test, y_pred_rf, c='crimson')\n",
    "\n",
    "p1 = max(max(y_pred_rf), max(y_test))\n",
    "p2 = min(min(y_pred_rf), min(y_test))\n",
    "plt.plot([p1, p2], [p1, p2], 'b-')\n",
    "plt.xlabel('True Values', fontsize=15)\n",
    "plt.ylabel('Predictions', fontsize=15)\n",
    "plt.axis('equal')\n",
    "plt.show()"
   ]
  },
  {
   "cell_type": "markdown",
   "metadata": {},
   "source": [
    "#### KNN regressor"
   ]
  },
  {
   "cell_type": "code",
   "execution_count": 65,
   "metadata": {},
   "outputs": [
    {
     "name": "stdout",
     "output_type": "stream",
     "text": [
      "RMSEP KNN: 0.03516639723189932\n",
      "MSE KNN: 0.0012366754942717364\n",
      "MAE KNN: 0.02278493086029283\n",
      "R^2 KNN: 0.7960749839698485\n"
     ]
    }
   ],
   "source": [
    "neigh = KNeighborsRegressor(n_neighbors=2)\n",
    "neigh.fit(X_train, y_train)\n",
    "y_pred_knn = neigh.predict(X_test)\n",
    "\n",
    "rmsep_knn = mean_squared_error(y_test, y_pred_knn,squared=False)\n",
    "mse_knn = mean_squared_error(y_test,y_pred_knn)\n",
    "mae_knn = mean_absolute_error(y_test, y_pred_knn)\n",
    "r2_knn = r2_score(y_test, y_pred_knn)\n",
    "\n",
    "\n",
    "\n",
    "print('RMSEP KNN: '+str(mean_squared_error(y_test, y_pred_knn,squared=False)))\n",
    "print('MSE KNN: '+str(mean_squared_error(y_test,y_pred_knn)))\n",
    "print('MAE KNN: '+str(mean_absolute_error(y_test, y_pred_knn)))\n",
    "print('R^2 KNN: '+str(r2_score(y_test, y_pred_knn)))"
   ]
  },
  {
   "cell_type": "code",
   "execution_count": 66,
   "metadata": {},
   "outputs": [
    {
     "data": {
      "image/png": "[encoded data removed]",
      "text/plain": [
       "<Figure size 720x720 with 1 Axes>"
      ]
     },
     "metadata": {
      "needs_background": "light"
     },
     "output_type": "display_data"
    }
   ],
   "source": [
    "plt.figure(figsize=(10,10))\n",
    "plt.scatter(y_test, y_pred_knn, c='crimson')\n",
    "\n",
    "p1 = max(max(y_pred_knn), max(y_test))\n",
    "p2 = min(min(y_pred_knn), min(y_test))\n",
    "plt.plot([p1, p2], [p1, p2], 'b-')\n",
    "plt.xlabel('True Values', fontsize=15)\n",
    "plt.ylabel('Predictions', fontsize=15)\n",
    "plt.axis('equal')\n",
    "plt.show()"
   ]
  },
  {
   "cell_type": "markdown",
   "metadata": {},
   "source": [
    "### Site par site"
   ]
  },
  {
   "cell_type": "code",
   "execution_count": 67,
   "metadata": {},
   "outputs": [],
   "source": [
    "sites=strat_train_set[\"PLANT_NAME\"].value_counts().index.values"
   ]
  },
  {
   "cell_type": "code",
   "execution_count": 68,
   "metadata": {},
   "outputs": [
    {
     "data": {
      "text/plain": [
       "array([14., 18.,  4., 10., 15., 21., 12.,  3.,  1., 16.])"
      ]
     },
     "execution_count": 68,
     "metadata": {},
     "output_type": "execute_result"
    }
   ],
   "source": [
    "sites"
   ]
  },
  {
   "cell_type": "code",
   "execution_count": 69,
   "metadata": {},
   "outputs": [],
   "source": [
    "df_sites_train=[]\n",
    "df_sites_test=[]\n",
    "for site in sites:\n",
    "    tmp_1 = strat_train_set[strat_train_set[\"PLANT_NAME\"]==site]\n",
    "    df_sites_train.append(tmp_1)\n",
    "    tmp_2 = strat_test_set[strat_test_set[\"PLANT_NAME\"]==site]\n",
    "    df_sites_test.append(tmp_2)"
   ]
  },
  {
   "cell_type": "code",
   "execution_count": 70,
   "metadata": {},
   "outputs": [
    {
     "data": {
      "text/plain": [
       "14.0    255\n",
       "Name: PLANT_NAME, dtype: int64"
      ]
     },
     "execution_count": 70,
     "metadata": {},
     "output_type": "execute_result"
    }
   ],
   "source": [
    "df_sites_train[0][\"PLANT_NAME\"].value_counts()"
   ]
  },
  {
   "cell_type": "code",
   "execution_count": 71,
   "metadata": {},
   "outputs": [],
   "source": [
    "y_train_sites = []\n",
    "X_train_sites = []\n",
    "y_test_sites = []\n",
    "X_test_sites = []\n",
    "for i in range (0, len(sites)):\n",
    "    y_train_sites.append(df_sites_train[i].iloc[:,15].values)\n",
    "    X_train_sites.append(df_sites_train[i].iloc[:,0:15].values)\n",
    "    y_test_sites.append(df_sites_test[i].iloc[:,15].values)\n",
    "    X_test_sites.append(df_sites_test[i].iloc[:,0:15].values)\n"
   ]
  },
  {
   "cell_type": "markdown",
   "metadata": {},
   "source": [
    "#### Linear Model"
   ]
  },
  {
   "cell_type": "code",
   "execution_count": 72,
   "metadata": {},
   "outputs": [
    {
     "name": "stdout",
     "output_type": "stream",
     "text": [
      "Site 14.0 : RMSEP = 0.02561900464082364\n",
      "Site 14.0 : MSE = 0.0006563333987865433\n",
      "Site 14.0 : MAE = 0.01634365134293659\n",
      "Site 14.0 : R^2 = 0.2888634428091369\n",
      "\n",
      "Site 18.0 : RMSEP = 0.038869247754738295\n",
      "Site 18.0 : MSE = 0.001510818421019228\n",
      "Site 18.0 : MAE = 0.029548463450711732\n",
      "Site 18.0 : R^2 = 0.6392264034085111\n",
      "\n",
      "Site 4.0 : RMSEP = 0.030248367021758277\n",
      "Site 4.0 : MSE = 0.0009149637074829938\n",
      "Site 4.0 : MAE = 0.023612584708512567\n",
      "Site 4.0 : R^2 = 0.7805825359383414\n",
      "\n",
      "Site 10.0 : RMSEP = 0.028445977276585935\n",
      "Site 10.0 : MSE = 0.0008091736232200433\n",
      "Site 10.0 : MAE = 0.02253897974022428\n",
      "Site 10.0 : R^2 = 0.8260260197624563\n",
      "\n",
      "Site 15.0 : RMSEP = 0.02119087900006015\n",
      "Site 15.0 : MSE = 0.00044905335279519024\n",
      "Site 15.0 : MAE = 0.01638524137722001\n",
      "Site 15.0 : R^2 = 0.3649174845131775\n",
      "\n",
      "Site 21.0 : RMSEP = 0.03306850042995362\n",
      "Site 21.0 : MSE = 0.0010935257206858427\n",
      "Site 21.0 : MAE = 0.024349935686440363\n",
      "Site 21.0 : R^2 = 0.5489018353144761\n",
      "\n",
      "Site 12.0 : RMSEP = 0.016794767223287703\n",
      "Site 12.0 : MSE = 0.00028206420608441895\n",
      "Site 12.0 : MAE = 0.013728235001048406\n",
      "Site 12.0 : R^2 = 0.30211259721867856\n",
      "\n",
      "Site 3.0 : RMSEP = 0.02778388481249267\n",
      "Site 3.0 : MSE = 0.0007719442552738607\n",
      "Site 3.0 : MAE = 0.023193238094055026\n",
      "Site 3.0 : R^2 = -0.5375704205135883\n",
      "\n",
      "Site 1.0 : RMSEP = 0.021238619635321993\n",
      "Site 1.0 : MSE = 0.0004510789640138849\n",
      "Site 1.0 : MAE = 0.018546036631789508\n",
      "Site 1.0 : R^2 = 0.48843538569930356\n",
      "\n",
      "Site 16.0 : RMSEP = 0.030608441701744673\n",
      "Site 16.0 : MSE = 0.0009368767034091022\n",
      "Site 16.0 : MAE = 0.02563485100386071\n",
      "Site 16.0 : R^2 = 0.6551283047949021\n",
      "\n"
     ]
    }
   ],
   "source": [
    "for i in range (0, len(sites)):\n",
    "    reg_site = linear_model.LinearRegression()\n",
    "    reg_site.fit(X_train_sites[i],y_train_sites[i])\n",
    "    y_pred_site = reg_site.predict(X_test_sites[i])\n",
    "    print(\"Site {} : RMSEP = {}\".format(sites[i], mean_squared_error(y_test_sites[i], y_pred_site,squared=False)))\n",
    "    print(\"Site {} : MSE = {}\".format(sites[i], mean_squared_error(y_test_sites[i], y_pred_site)))\n",
    "    print(\"Site {} : MAE = {}\".format(sites[i], mean_absolute_error(y_test_sites[i], y_pred_site)))\n",
    "    print(\"Site {} : R^2 = {}\".format(sites[i], r2_score(y_test_sites[i], y_pred_site)))\n",
    "    print()"
   ]
  },
  {
   "cell_type": "markdown",
   "metadata": {},
   "source": [
    "### Random Forest"
   ]
  },
  {
   "cell_type": "code",
   "execution_count": 73,
   "metadata": {},
   "outputs": [
    {
     "name": "stdout",
     "output_type": "stream",
     "text": [
      "Site 14.0 : RMSEP = 0.018036106016286812\n",
      "Site 14.0 : MSE = 0.0003253011202307373\n",
      "Site 14.0 : MAE = 0.012109839709623609\n",
      "Site 14.0 : R^2 = 0.6475365734565441\n",
      "\n",
      "Site 18.0 : RMSEP = 0.04219077405618144\n",
      "Site 18.0 : MSE = 0.0017800614154597533\n",
      "Site 18.0 : MAE = 0.028794578744898162\n",
      "Site 18.0 : R^2 = 0.5749329303412176\n",
      "\n",
      "Site 4.0 : RMSEP = 0.04236897355364076\n",
      "Site 4.0 : MSE = 0.0017951299199891106\n",
      "Site 4.0 : MAE = 0.03366948773357767\n",
      "Site 4.0 : R^2 = 0.5695098598077017\n",
      "\n",
      "Site 10.0 : RMSEP = 0.04542347586936674\n",
      "Site 10.0 : MSE = 0.002063292160054943\n",
      "Site 10.0 : MAE = 0.031744086218060706\n",
      "Site 10.0 : R^2 = 0.5563879751180871\n",
      "\n",
      "Site 15.0 : RMSEP = 0.021784394794527207\n",
      "Site 15.0 : MSE = 0.000474559856563824\n",
      "Site 15.0 : MAE = 0.01756414935578057\n",
      "Site 15.0 : R^2 = 0.3288444110713984\n",
      "\n",
      "Site 21.0 : RMSEP = 0.03922360841300881\n",
      "Site 21.0 : MSE = 0.0015384914569370552\n",
      "Site 21.0 : MAE = 0.03239632501345156\n",
      "Site 21.0 : R^2 = 0.36534581722193926\n",
      "\n",
      "Site 12.0 : RMSEP = 0.016534894247411978\n",
      "Site 12.0 : MSE = 0.00027340272777309776\n",
      "Site 12.0 : MAE = 0.013423174549414165\n",
      "Site 12.0 : R^2 = 0.3235429541109869\n",
      "\n",
      "Site 3.0 : RMSEP = 0.021313114332103374\n",
      "Site 3.0 : MSE = 0.0004542488425333103\n",
      "Site 3.0 : MAE = 0.016744782732010494\n",
      "Site 3.0 : R^2 = 0.09522018065414717\n",
      "\n",
      "Site 1.0 : RMSEP = 0.018720629589925906\n",
      "Site 1.0 : MSE = 0.00035046197224320943\n",
      "Site 1.0 : MAE = 0.01549478136177956\n",
      "Site 1.0 : R^2 = 0.6025442151806037\n",
      "\n",
      "Site 16.0 : RMSEP = 0.03038274878105424\n",
      "Site 16.0 : MSE = 0.000923111423492653\n",
      "Site 16.0 : MAE = 0.027068735863029443\n",
      "Site 16.0 : R^2 = 0.660195412774516\n",
      "\n"
     ]
    }
   ],
   "source": [
    "for i in range (0, len(sites)):\n",
    "    rf_site = RandomForestRegressor(max_depth=2, random_state=0)\n",
    "    rf_site.fit(X_train_sites[i],y_train_sites[i])\n",
    "    y_pred_site = rf_site.predict(X_test_sites[i])\n",
    "    print(\"Site {} : RMSEP = {}\".format(sites[i], mean_squared_error(y_test_sites[i], y_pred_site,squared=False)))\n",
    "    print(\"Site {} : MSE = {}\".format(sites[i], mean_squared_error(y_test_sites[i], y_pred_site)))\n",
    "    print(\"Site {} : MAE = {}\".format(sites[i], mean_absolute_error(y_test_sites[i], y_pred_site)))\n",
    "    print(\"Site {} : R^2 = {}\".format(sites[i], r2_score(y_test_sites[i], y_pred_site)))\n",
    "    print()"
   ]
  },
  {
   "cell_type": "markdown",
   "metadata": {},
   "source": [
    "### KNN Regression"
   ]
  },
  {
   "cell_type": "code",
   "execution_count": 74,
   "metadata": {},
   "outputs": [
    {
     "name": "stdout",
     "output_type": "stream",
     "text": [
      "Site 14.0 : RMSEP = 0.018015833934310256\n",
      "Site 14.0 : MSE = 0.000324570272348645\n",
      "Site 14.0 : MAE = 0.010798108800482209\n",
      "Site 14.0 : R^2 = 0.6483284463791507\n",
      "\n",
      "Site 18.0 : RMSEP = 0.05287806461642777\n",
      "Site 18.0 : MSE = 0.002796089717579111\n",
      "Site 18.0 : MAE = 0.03426937791391425\n",
      "Site 18.0 : R^2 = 0.33231199079306295\n",
      "\n",
      "Site 4.0 : RMSEP = 0.040995137694957745\n",
      "Site 4.0 : MSE = 0.0016806013146285455\n",
      "Site 4.0 : MAE = 0.030134262655778097\n",
      "Site 4.0 : R^2 = 0.5969749668334914\n",
      "\n",
      "Site 10.0 : RMSEP = 0.04611232014985581\n",
      "Site 10.0 : MSE = 0.002126346069602798\n",
      "Site 10.0 : MAE = 0.033448201348846275\n",
      "Site 10.0 : R^2 = 0.5428312558939419\n",
      "\n",
      "Site 15.0 : RMSEP = 0.022896361231223305\n",
      "Site 15.0 : MSE = 0.0005242433576306655\n",
      "Site 15.0 : MAE = 0.017862149561452094\n",
      "Site 15.0 : R^2 = 0.2585785448011313\n",
      "\n",
      "Site 21.0 : RMSEP = 0.02553257434259954\n",
      "Site 21.0 : MSE = 0.0006519123525603723\n",
      "Site 21.0 : MAE = 0.017787931046520575\n",
      "Site 21.0 : R^2 = 0.7310749439058774\n",
      "\n",
      "Site 12.0 : RMSEP = 0.014855198059749213\n",
      "Site 12.0 : MSE = 0.00022067690939437678\n",
      "Site 12.0 : MAE = 0.011012821139403458\n",
      "Site 12.0 : R^2 = 0.45399794859133\n",
      "\n",
      "Site 3.0 : RMSEP = 0.022913738949354074\n",
      "Site 3.0 : MSE = 0.0005250394326391459\n",
      "Site 3.0 : MAE = 0.014689257981673772\n",
      "Site 3.0 : R^2 = -0.04578160367653594\n",
      "\n",
      "Site 1.0 : RMSEP = 0.0242215496741873\n",
      "Site 1.0 : MSE = 0.0005866834686191231\n",
      "Site 1.0 : MAE = 0.01888314117181676\n",
      "Site 1.0 : R^2 = 0.33464753117705104\n",
      "\n",
      "Site 16.0 : RMSEP = 0.029324533532955305\n",
      "Site 16.0 : MSE = 0.0008599282669254202\n",
      "Site 16.0 : MAE = 0.024849737363299675\n",
      "Site 16.0 : R^2 = 0.6834536304614978\n",
      "\n"
     ]
    }
   ],
   "source": [
    "for i in range (0, len(sites)):\n",
    "    knn_site = KNeighborsRegressor(n_neighbors=2)\n",
    "    knn_site.fit(X_train_sites[i],y_train_sites[i])\n",
    "    y_pred_site = knn_site.predict(X_test_sites[i])\n",
    "    print(\"Site {} : RMSEP = {}\".format(sites[i], mean_squared_error(y_test_sites[i], y_pred_site,squared=False)))\n",
    "    print(\"Site {} : MSE = {}\".format(sites[i], mean_squared_error(y_test_sites[i], y_pred_site)))\n",
    "    print(\"Site {} : MAE = {}\".format(sites[i], mean_absolute_error(y_test_sites[i], y_pred_site)))\n",
    "    print(\"Site {} : R^2 = {}\".format(sites[i], r2_score(y_test_sites[i], y_pred_site)))\n",
    "    print()"
   ]
  },
  {
   "cell_type": "markdown",
   "metadata": {},
   "source": [
    "## Optimisation du modele"
   ]
  },
  {
   "cell_type": "markdown",
   "metadata": {},
   "source": [
    "### Correlation"
   ]
  },
  {
   "cell_type": "code",
   "execution_count": 75,
   "metadata": {},
   "outputs": [
    {
     "data": {
      "text/plain": [
       "<AxesSubplot:>"
      ]
     },
     "execution_count": 75,
     "metadata": {},
     "output_type": "execute_result"
    },
    {
     "data": {
      "image/png": "[encoded data removed]",
      "text/plain": [
       "<Figure size 432x288 with 2 Axes>"
      ]
     },
     "metadata": {
      "needs_background": "light"
     },
     "output_type": "display_data"
    }
   ],
   "source": [
    "corr = df.drop('IF_outlier', 1).corr()\n",
    "\n",
    "sns.heatmap(corr, \n",
    "        xticklabels=corr.columns,\n",
    "        yticklabels=corr.columns)\n"
   ]
  },
  {
   "cell_type": "markdown",
   "metadata": {},
   "source": [
    "Certaines variables ont un fort effet de corrélation (negatif ou positif) sur notre valeur explicative actual.values.\n",
    "Comme nous avons vu avec la PCA qu'il y'avait un fort effet de taille dans nos données, il est interessant de voir les variations du modèles en fonction du nombre de variables selectionnées"
   ]
  },
  {
   "cell_type": "code",
   "execution_count": 76,
   "metadata": {},
   "outputs": [
    {
     "data": {
      "text/plain": [
       "(1537, 15)"
      ]
     },
     "execution_count": 76,
     "metadata": {},
     "output_type": "execute_result"
    }
   ],
   "source": [
    "X_train.shape"
   ]
  },
  {
   "cell_type": "code",
   "execution_count": 77,
   "metadata": {},
   "outputs": [],
   "source": [
    "rf = RandomForestRegressor(max_depth=2)\n",
    "rf.fit(X_train[:,[0,6,9,10,11]], y_train)\n",
    "y_pred_rf = rf.predict(X_test[:,[0,6,9,10,11]])"
   ]
  },
  {
   "cell_type": "code",
   "execution_count": 78,
   "metadata": {},
   "outputs": [
    {
     "name": "stdout",
     "output_type": "stream",
     "text": [
      "RMSEP RF: 0.04922659141021087\n",
      "MSE RF: 0.0024232573018678465\n",
      "MAE RF: 0.03675558429456444\n",
      "R^2 : 0.6004103045483337\n"
     ]
    }
   ],
   "source": [
    "print('RMSEP RF: '+str(mean_squared_error(y_test, y_pred_rf, squared=False)))\n",
    "print('MSE RF: '+str(mean_squared_error(y_test, y_pred_rf)))\n",
    "print('MAE RF: '+str(mean_absolute_error(y_test, y_pred_rf)))\n",
    "print('R^2 : '+str(r2_score(y_test, y_pred_rf)))"
   ]
  },
  {
   "cell_type": "markdown",
   "metadata": {},
   "source": [
    "### Features selection (Test de tous les modèles)"
   ]
  },
  {
   "cell_type": "code",
   "execution_count": 79,
   "metadata": {},
   "outputs": [],
   "source": [
    "import numpy as np\n",
    "from itertools import combinations, chain\n",
    "from scipy.special import perm\n",
    "\n",
    "\n",
    "\n",
    "import numpy as np\n",
    "from itertools import combinations, chain\n",
    "from scipy.special import comb\n",
    "\n",
    "def comb_index(n, k):\n",
    "    count = comb(n, k, exact=True)\n",
    "    index = np.fromiter(chain.from_iterable(combinations(range(n), k)), \n",
    "                        int, count=count*k)\n",
    "    return index.reshape(-1, k)\n",
    "\n",
    "\n",
    "\n",
    "def testAllModele(X_train,Y_train,X_test,Y_test):\n",
    "    score = []\n",
    "    #print(X_train.shape[1])\n",
    "    for i in range(1,16):\n",
    "        #all_combinaison = np.array(list(itertools.permutations(range(0,15),i)))\n",
    "        idx = comb_index(15, i)\n",
    "        #print(all_combinaison)\n",
    "        for c in idx :\n",
    "            reg = linear_model.LinearRegression()\n",
    "            #print('combinaison: '+str(combinaison))\n",
    "            reg.fit(X_train[:,c],y_train)\n",
    "            y_pred = reg.predict(X_test[:,c])\n",
    "            scoring = mean_squared_error(y_test, y_pred,squared=False)\n",
    "            #print('Score: '+str(scoring))\n",
    "            score.append([c,scoring])\n",
    "        #print(i)\n",
    "    return score\n",
    "            \n",
    "            \n",
    "        \n",
    "score = testAllModele(X_train,y_train,X_test,y_test)  "
   ]
  },
  {
   "cell_type": "code",
   "execution_count": 80,
   "metadata": {},
   "outputs": [
    {
     "data": {
      "text/plain": [
       "32767"
      ]
     },
     "execution_count": 80,
     "metadata": {},
     "output_type": "execute_result"
    }
   ],
   "source": [
    "len(score)"
   ]
  },
  {
   "cell_type": "code",
   "execution_count": 81,
   "metadata": {},
   "outputs": [],
   "source": [
    "best_score = min(score, key=lambda x: x[1])"
   ]
  },
  {
   "cell_type": "code",
   "execution_count": 82,
   "metadata": {},
   "outputs": [
    {
     "name": "stdout",
     "output_type": "stream",
     "text": [
      "Features retenus: ['FEED_D154', 'FEED_DS_010', 'FEED_DS_090', 'FEED_DS_095', 'DIESEL_DS_005', 'DIESEL_DS_090', 'DIESEL_DS_095', 'FEED_SULFUR', 'FEED_KWATSON', 'PROCESS_PP_H2_OUT']\n",
      "\n",
      "RMSEP: 0.04020414323959952\n"
     ]
    }
   ],
   "source": [
    "print('Features retenus: '+str(list(strat_train_set.columns[best_score[0]])))\n",
    "print()\n",
    "print('RMSEP: '+str(best_score[1]))"
   ]
  },
  {
   "cell_type": "markdown",
   "metadata": {},
   "source": [
    "###  Hyper parameter tuning KNN Regression"
   ]
  },
  {
   "cell_type": "markdown",
   "metadata": {},
   "source": [
    "Voyons s'il est possible d'améliorer les performances du modèle par la recherche de valeurs optimales d'un parametre par rapport à une métrique choisie"
   ]
  },
  {
   "cell_type": "markdown",
   "metadata": {},
   "source": [
    "Prenons la RMSEP, regardons la tendance de la valeur de cette metrique sur le modele en fonction du nombre de voisin"
   ]
  },
  {
   "cell_type": "code",
   "execution_count": 83,
   "metadata": {},
   "outputs": [],
   "source": [
    "scores=[]\n",
    "k_range = range(2,100)\n",
    "for k in k_range:\n",
    "    knn = KNeighborsRegressor(n_neighbors=k)\n",
    "    model = knn.fit(X_train,y_train)\n",
    "    y_pred = model.predict(X_test)\n",
    "    scores.append(mean_squared_error(y_test, y_pred,squared=False))"
   ]
  },
  {
   "cell_type": "code",
   "execution_count": 84,
   "metadata": {},
   "outputs": [
    {
     "data": {
      "text/plain": [
       "Text(0.5, 1.0, 'RMSEP en fonction du parametre K neigbors')"
      ]
     },
     "execution_count": 84,
     "metadata": {},
     "output_type": "execute_result"
    },
    {
     "data": {
      "image/png": "[encoded data removed]",
      "text/plain": [
       "<Figure size 432x288 with 1 Axes>"
      ]
     },
     "metadata": {
      "needs_background": "light"
     },
     "output_type": "display_data"
    }
   ],
   "source": [
    "# allow plots to appear within the notebook\n",
    "%matplotlib inline\n",
    "\n",
    "plt.plot(k_range, scores)\n",
    "plt.xlabel('Nombre de voisins')\n",
    "plt.ylabel('Score RMSEP')\n",
    "plt.title('RMSEP en fonction du parametre K neigbors')"
   ]
  },
  {
   "cell_type": "markdown",
   "metadata": {},
   "source": [
    "On voit que pour obtenir une RMSEP optimal, il faut être autour de ~ 5 voisins."
   ]
  },
  {
   "cell_type": "code",
   "execution_count": 85,
   "metadata": {},
   "outputs": [],
   "source": [
    "from sklearn.model_selection import GridSearchCV\n",
    "from sklearn.metrics import mean_absolute_error\n",
    "from sklearn.metrics import make_scorer\n",
    "\n",
    "# Fonction grid search par metrique recherché\n",
    "def Grid_Search(model, parameters, X_train, Y_train, X_test,Y_test, metric = mean_absolute_error, squared=False ):\n",
    "    \n",
    "    \n",
    "    # Construction de la fonction score en fonction de la metrique\n",
    "    if metric == mean_squared_error : \n",
    "        custom_scorer= make_scorer(metric,squared=squared, greater_is_better=False)\n",
    "    elif metric == r2_score:\n",
    "        custom_scorer= make_scorer(metric, greater_is_better=True)\n",
    "    else :\n",
    "        custom_scorer= make_scorer(metric, greater_is_better=False)\n",
    "\n",
    "    # Construction du meilleur modèle en fonction du paramètre\n",
    "    testParametersModel = GridSearchCV(model, parameters,scoring=custom_scorer)\n",
    "    grid_fit = testParametersModel.fit(X_train,Y_train)\n",
    "    best_model=  grid_fit.best_estimator_\n",
    "    y_pred = best_model.predict(X_test)\n",
    "    \n",
    "    # Resumé\n",
    "    print(\"Metrique: \"+str(metric))\n",
    "    print(\"Meilleur modele: \"+str(best_model))\n",
    "    \n",
    "    if metric == mean_squared_error and squared == True :\n",
    "        print('MSE: '+str(mean_squared_error(y_test,y_pred)))\n",
    "    if metric == mean_squared_error and squared == False :\n",
    "        print('RMSEP: '+str(mean_squared_error(y_test, y_pred,squared=False)))\n",
    "    \n",
    "    if metric == mean_absolute_error :\n",
    "        print('MAE: '+str(mean_absolute_error(y_test, y_pred)))\n",
    "        \n",
    "        \n",
    "    if metric == r2_score :\n",
    "        print('R^2 KNN: '+str(r2_score(y_test, y_pred)))\n",
    "    \n",
    "    return best_model\n",
    "    "
   ]
  },
  {
   "cell_type": "code",
   "execution_count": 86,
   "metadata": {},
   "outputs": [],
   "source": [
    "from sklearn import svm, datasets\n",
    "from sklearn.model_selection import GridSearchCV"
   ]
  },
  {
   "cell_type": "code",
   "execution_count": 87,
   "metadata": {},
   "outputs": [],
   "source": [
    "parameters_knn = {'n_neighbors': range(1,29)}\n",
    "# On peut pas aller au dela de 29 à cause de la taille de certain test_set car nneigbor <= n_sample"
   ]
  },
  {
   "cell_type": "markdown",
   "metadata": {},
   "source": [
    "### Site par site"
   ]
  },
  {
   "cell_type": "code",
   "execution_count": 88,
   "metadata": {},
   "outputs": [
    {
     "name": "stdout",
     "output_type": "stream",
     "text": [
      "Meilleur modele: KNeighborsRegressor(n_neighbors=3)\n",
      "Site 14.0 : RMSEP = 0.0198099460767086\n",
      "\n",
      "Meilleur modele: KNeighborsRegressor(n_neighbors=7)\n",
      "Site 18.0 : RMSEP = 0.04100455429351703\n",
      "\n",
      "Meilleur modele: KNeighborsRegressor(n_neighbors=2)\n",
      "Site 4.0 : RMSEP = 0.040995137694957745\n",
      "\n",
      "Meilleur modele: KNeighborsRegressor(n_neighbors=4)\n",
      "Site 10.0 : RMSEP = 0.040262892125735035\n",
      "\n",
      "Meilleur modele: KNeighborsRegressor(n_neighbors=7)\n",
      "Site 15.0 : RMSEP = 0.02228766082365602\n",
      "\n",
      "Meilleur modele: KNeighborsRegressor()\n",
      "Site 21.0 : RMSEP = 0.03166831673191675\n",
      "\n",
      "Meilleur modele: KNeighborsRegressor(n_neighbors=8)\n",
      "Site 12.0 : RMSEP = 0.015136188243038322\n",
      "\n",
      "Meilleur modele: KNeighborsRegressor(n_neighbors=3)\n",
      "Site 3.0 : RMSEP = 0.025630951968806326\n",
      "\n",
      "Meilleur modele: KNeighborsRegressor(n_neighbors=16)\n",
      "Site 1.0 : RMSEP = 0.024222038030504524\n",
      "\n",
      "Meilleur modele: KNeighborsRegressor(n_neighbors=1)\n",
      "Site 16.0 : RMSEP = 0.020502102684683936\n",
      "\n"
     ]
    }
   ],
   "source": [
    "scores = []\n",
    "for i in range (0, len(sites)):\n",
    "    custom_scorer = make_scorer(mean_squared_error,squared=False,greater_is_better=False)\n",
    "    testParametersModel = GridSearchCV(KNeighborsRegressor(), parameters_knn,scoring=custom_scorer)\n",
    "    grid_fit = testParametersModel.fit(X_train_sites[i],y_train_sites[i])\n",
    "    best_model =  grid_fit.best_estimator_\n",
    "    y_pred_sites_knn = best_model.predict(X_test_sites[i])\n",
    "    print(\"Meilleur modele: \"+str(best_model))\n",
    "    print(\"Site {} : RMSEP = {}\".format(sites[i], mean_squared_error(y_test_sites[i], y_pred_sites_knn,squared=False)))\n",
    "    print()"
   ]
  },
  {
   "cell_type": "code",
   "execution_count": 89,
   "metadata": {},
   "outputs": [],
   "source": [
    "# Le nombre de K-voisin diffèrent selon les sites. Cela peut-être dû à la diversité de proportion de taille des données dans le training set"
   ]
  },
  {
   "cell_type": "markdown",
   "metadata": {},
   "source": [
    "### Global"
   ]
  },
  {
   "cell_type": "markdown",
   "metadata": {},
   "source": [
    "#### RootMeanSquaredError"
   ]
  },
  {
   "cell_type": "code",
   "execution_count": 90,
   "metadata": {},
   "outputs": [
    {
     "name": "stdout",
     "output_type": "stream",
     "text": [
      "Metrique: <function mean_squared_error at 0x000001435DE4CEE0>\n",
      "Meilleur modele: KNeighborsRegressor(n_neighbors=3)\n",
      "RMSEP: 0.034096592287052634\n",
      "Ancien RMSEP: 0.03516639723189932\n"
     ]
    }
   ],
   "source": [
    "best_model_KNN_RMSEP = Grid_Search(KNeighborsRegressor(),parameters_knn,X_train,y_train,X_test,y_test, metric=mean_squared_error,squared=False)\n",
    "print(\"Ancien RMSEP: \"+str(rmsep_knn))"
   ]
  },
  {
   "cell_type": "markdown",
   "metadata": {},
   "source": [
    "On arrive à un nombre de 3 voisins pour l'optimisation du RMSEP avec l'algorithme KNN"
   ]
  },
  {
   "cell_type": "markdown",
   "metadata": {},
   "source": [
    "#### MeanSquaredError"
   ]
  },
  {
   "cell_type": "code",
   "execution_count": 91,
   "metadata": {},
   "outputs": [
    {
     "name": "stdout",
     "output_type": "stream",
     "text": [
      "Metrique: <function mean_squared_error at 0x000001435DE4CEE0>\n",
      "Meilleur modele: KNeighborsRegressor(n_neighbors=3)\n",
      "MSE: 0.001162577605589497\n",
      "Ancien MSE: 0.0012366754942717364\n"
     ]
    }
   ],
   "source": [
    "best_model_KNN_RMSEP = Grid_Search(KNeighborsRegressor(),parameters_knn,X_train,y_train,X_test,y_test, metric=mean_squared_error,squared=True)\n",
    "print(\"Ancien MSE: \"+str(mse_knn))"
   ]
  },
  {
   "cell_type": "markdown",
   "metadata": {},
   "source": [
    "Légère amélioration"
   ]
  },
  {
   "cell_type": "markdown",
   "metadata": {},
   "source": [
    "#### R^2 score ( Coefficient de détermination)"
   ]
  },
  {
   "cell_type": "code",
   "execution_count": 92,
   "metadata": {},
   "outputs": [
    {
     "name": "stdout",
     "output_type": "stream",
     "text": [
      "Metrique: <function r2_score at 0x000001435DE513A0>\n",
      "Meilleur modele: KNeighborsRegressor(n_neighbors=3)\n",
      "R^2 KNN: 0.8082935596651843\n",
      "Ancien R^2: 0.7960749839698485\n"
     ]
    }
   ],
   "source": [
    "best_model_KNN_R2 = Grid_Search(KNeighborsRegressor(),parameters_knn,X_train,y_train,X_test,y_test, metric = r2_score)\n",
    "print(\"Ancien R^2: \"+str(r2_knn))"
   ]
  },
  {
   "cell_type": "markdown",
   "metadata": {},
   "source": [
    "Légère amélioration"
   ]
  },
  {
   "cell_type": "markdown",
   "metadata": {},
   "source": [
    "#### MeanAbsoluteError"
   ]
  },
  {
   "cell_type": "code",
   "execution_count": 93,
   "metadata": {},
   "outputs": [
    {
     "name": "stdout",
     "output_type": "stream",
     "text": [
      "Metrique: <function mean_absolute_error at 0x000001435DE4CDC0>\n",
      "Meilleur modele: KNeighborsRegressor(n_neighbors=4)\n",
      "MAE: 0.022855278485554208\n",
      "Ancien MAE: 0.02278493086029283\n"
     ]
    }
   ],
   "source": [
    "best_model_KNN_MAE = Grid_Search(KNeighborsRegressor(),parameters_knn,X_train,y_train,X_test,y_test, metric = mean_absolute_error)\n",
    "print(\"Ancien MAE: \"+str(mae_knn))"
   ]
  },
  {
   "cell_type": "markdown",
   "metadata": {},
   "source": [
    "Légère réduction donc stabilisation. Ici on voit que le modele adéquat est pour n_neighbor = 4"
   ]
  },
  {
   "cell_type": "markdown",
   "metadata": {},
   "source": [
    "Globalement, le modèle est meilleur avec n_neighbor=3 comme nombre de voisins pour KNRegressor pour chaque métrique sauf pour MAE avec n_neighbor=4"
   ]
  }
 ],
 "metadata": {
  "kernelspec": {
   "display_name": "Python 3",
   "language": "python",
   "name": "python3"
  },
  "language_info": {
   "codemirror_mode": {
    "name": "ipython",
    "version": 3
   },
   "file_extension": ".py",
   "mimetype": "text/x-python",
   "name": "python",
   "nbconvert_exporter": "python",
   "pygments_lexer": "ipython3",
   "version": "3.8.5"
  }
 },
 "nbformat": 4,
 "nbformat_minor": 4
}
